{
 "cells": [
  {
   "cell_type": "markdown",
   "metadata": {},
   "source": [
    "# SUMMARY - w/mortgage rate added\n",
    "---\n",
    "#### NOTE:\n",
    " - Adding mortgage rate and mortgage points ultimately did not affect the model as both were insignificant with p-values well above 0.05.\n",
    " - Additionally, neither correlated well with $saleprice$ or $saleprice\\_log$\n",
    " - Even still, it is possible the time period the dataset covers (2006-2010) or the geographic location (Ames, Iowa) is too limited to conclude whether mortgage rate has any effect whatsoever on housing prices in general.\n",
    "\n",
    "***\n",
    "## Data Cleaning\n",
    "<br></br>\n",
    "### data source\n",
    " - $houseprices$ data was sourced from the Thinkful database using the `sqlalchemy` package.\n",
    "\n",
    "<br></br>\n",
    "### variable sorting\n",
    " - data columns were collected as variables, and sorted into $cont_vars$ (continuous variables) and $cat_vars$ (categorical variables) lists.\n",
    " \n",
    "<br></br>\n",
    "### missing values\n",
    " - variables with many (17%-99%) missing values were removed from feature consideration.\n",
    " - variables with some (~5%) missing values were kept.\n",
    "\n",
    "<br></br>\n",
    "***\n",
    "## Data Exploration\n",
    "<br></br>\n",
    "### saleprice distribution\n",
    " - plotted the distributions of saleprice and log(saleprice). The log-transformed saleprice appeared to be more normal.\n",
    " - added the log of the saleprice, $saleprice\\_log$, to the dataframe for target variable consideration.\n",
    "\n",
    "<br></br>\n",
    "### inspecting categorical variables\n",
    " - unable to visually determine which categorical variables to consider for feature engineering.\n",
    " - implemented ANOVA test to rank categorical variables by the inverse of their p-values.\n",
    " \n",
    "<br></br>\n",
    "### inspecting continuous variables\n",
    " - too many variables to visually determine via correlation matrix which continuous variables correlated most with saleprice.\n",
    " - executed `.corrwith()` to determine correlation with saleprice only.\n",
    " \n",
    "<br></br>\n",
    "***\n",
    "## Feature Engineering\n",
    "<br></br>\n",
    "### feature selection\n",
    " - included the top 10 categorical variables according to the ANOVA test as features\n",
    " - included the top 6 continuous variables most correlating with saleprice as features\n",
    " - used `.get_dummies()` to perform one-hot encoding on the categorical variables\n",
    " - replaced the original categorical variables from the dataframe with their dummy versions\n",
    "  \n",
    "<br></br>\n",
    "### feature trimming\n",
    " - used `.corrwith()` to determine new correlation ranking, keeping the top 9 variables most correlating with saleprice\n",
    " - used correlation matrix to identify collinearity between features, removing features that highly correlated with other features but correlated less with saleprice than their collinear partner(s)\n",
    " - entered regression phase with 9 features and $saleprice$ as the target variable\n",
    "  \n",
    "<br></br>\n",
    "***\n",
    "## Regression\n",
    "<br></br>\n",
    "### wrapper functions\n",
    " - defined wrapper function to execute `sklearn` linear regression\n",
    " - defined wrapper function to execute `statsmodels` linear regression\n",
    " - both functions implemented a 20% holdout using `train_test_split` function\n",
    " \n",
    "<br></br>\n",
    "### regression results\n",
    " - after first attempt, removed feature identified as insignificant, resulting in 6 remaining features\n",
    " - regression resulted in 77% and 78% $R^2$ for train and test data sets respectively\n",
    " \n",
    "<br></br>\n",
    "#### model\n",
    " - target_variable = $saleprice$\n",
    " - features =\n",
    "       ['overallqual', 'grlivarea', 'garagecars',\n",
    "       'totalbsmtsf', 'foundation_PConc', 'neighborhood_NridgHt']\n",
    " \n",
    "<br></br>\n",
    "***\n",
    "## Model Improvement I\n",
    "<br></br>\n",
    "### variable adjustment\n",
    " - switched to $saleprice\\_log$ as the target variable\n",
    " - added synthetic variable, $totalsf$, summing up the total square footage (built from 3 separate square footage variables)\n",
    " - added interaction variable for overall quality ($overallqual$) and total square footage ($totalsf$)\n",
    " \n",
    "<br></br>\n",
    "#### model\n",
    " - target_variable = $saleprice\\_log$\n",
    " - features =\n",
    "       ['overallqual', 'grlivarea', 'garagecars',\n",
    "       'foundation_PConc', 'neighborhood_NridgHt', 'totalsf',\n",
    "       'int_overallqual_totalsf']\n",
    " \n",
    "<br></br>\n",
    "### regression results\n",
    " - regression resulted in 81% $R^2$ for both train and test data sets\n",
    " \n",
    "<br></br>\n",
    "***\n",
    "## Model Improvement II\n",
    "<br></br>\n",
    "### categorical variable search\n",
    " - defined function to iterate through the remaining unused categorical variables and determine train and test $R^2$ values if each was added to the model\n",
    " - added the top 3 categorical variables from the returned dataframe to the model\n",
    " \n",
    "<br></br>\n",
    "### regression results\n",
    " - regression resulted in 86% and 85% $𝑅^2$ for train and test data sets respectively\n",
    " - Test $R^2$ improvement of 7% at the cost of 23 additional features (6 to 29) relative to the original model\n",
    " \n",
    "<br></br>\n",
    "#### model\n",
    " - target_variable = $saleprice\\_log$\n",
    " - features = \n",
    "       ['overallqual', 'grlivarea', 'garagecars',\n",
    "       'foundation_PConc', 'neighborhood_NridgHt', 'totalsf',\n",
    "       'int_overallqual_totalsf', 'neighborhood_ClearCr',\n",
    "       'neighborhood_CollgCr', 'neighborhood_Crawfor', 'neighborhood_NoRidge',\n",
    "       'neighborhood_NridgHt', 'neighborhood_Somerst', 'neighborhood_StoneBr',\n",
    "       'neighborhood_Timber', 'neighborhood_Veenker', 'mszoning_FV',\n",
    "       'mszoning_RH', 'mszoning_RL', 'mszoning_RM', 'roofmatl_CompShg',\n",
    "       'roofmatl_Membran', 'roofmatl_Metal', 'roofmatl_Roll',\n",
    "       'roofmatl_Tar&Grv', 'roofmatl_WdShake', 'roofmatl_WdShngl']\n",
    " \n",
    "<br></br>\n",
    "***\n",
    "## Ridge/Lasso/ElasticNet Regressions\n",
    " - OLS model better than Ridge, Lasso, ElasticNet regression models\n",
    " \n",
    "|     |OLS   |Ridge |Lasso |ElasticNet|\n",
    "|:-:  |:-:   |:-:   |:-:   |:-:       |\n",
    "|Train|0.8633|0.8553|0.8466|0.8502    |\n",
    "|Test |0.8497|0.8322|0.8234|0.8246    |\n",
    "|MAE  |0.1200|0.1256|0.1263|0.1267    |\n",
    "|MSE  |0.0251|0.0280|0.0294|0.0293    |\n",
    "|RMSE |0.1583|0.1673|0.1716|0.1710    |\n",
    "|MAPE |1.0033|1.0489|1.0557|1.0582    |"
   ]
  },
  {
   "cell_type": "markdown",
   "metadata": {},
   "source": [
    "# SETUP\n",
    "---"
   ]
  },
  {
   "cell_type": "markdown",
   "metadata": {},
   "source": [
    "## import packages"
   ]
  },
  {
   "cell_type": "code",
   "execution_count": 1,
   "metadata": {},
   "outputs": [],
   "source": [
    "import numpy as np\n",
    "import pandas as pd\n",
    "import seaborn as sns\n",
    "import matplotlib.pyplot as plt\n",
    "import scipy.stats as st\n",
    "#from scipy import stats as st\n",
    "from sqlalchemy import create_engine\n",
    "\n",
    "\n",
    "# sklearn\n",
    "from sklearn.model_selection import train_test_split\n",
    "from sklearn.linear_model import LinearRegression, LassoCV, RidgeCV, ElasticNetCV\n",
    "from sklearn.linear_model import Lasso, Ridge, ElasticNet\n",
    "from sklearn.metrics import mean_absolute_error\n",
    "from sklearn.preprocessing import StandardScaler, normalize, scale\n",
    "from sklearn.decomposition import PCA\n",
    "\n",
    "# statsmodels\n",
    "import statsmodels.api as sm\n",
    "from statsmodels.tools.eval_measures import mse, rmse\n",
    "\n",
    "import warnings\n",
    "warnings.filterwarnings('ignore')"
   ]
  },
  {
   "cell_type": "markdown",
   "metadata": {},
   "source": [
    "## define constants"
   ]
  },
  {
   "cell_type": "code",
   "execution_count": 2,
   "metadata": {},
   "outputs": [],
   "source": [
    "ENABLE_PLOTS = False"
   ]
  },
  {
   "cell_type": "markdown",
   "metadata": {},
   "source": [
    "## set plot style"
   ]
  },
  {
   "cell_type": "code",
   "execution_count": 3,
   "metadata": {},
   "outputs": [],
   "source": [
    "# import jtplot submodule from jupyterthemes\n",
    "from jupyterthemes import jtplot\n",
    "\n",
    "# currently installed theme will be used to\n",
    "# set plot style if no arguments provided\n",
    "jtplot.style()"
   ]
  },
  {
   "cell_type": "markdown",
   "metadata": {},
   "source": [
    "## database credentials"
   ]
  },
  {
   "cell_type": "code",
   "execution_count": 4,
   "metadata": {},
   "outputs": [],
   "source": [
    "postgres_user = 'dsbc_student'\n",
    "postgres_pw = '7*.8G9QH21'\n",
    "postgres_host = '142.93.121.174'\n",
    "postgres_port = '5432'\n",
    "postgres_db = 'houseprices'"
   ]
  },
  {
   "cell_type": "markdown",
   "metadata": {},
   "source": [
    "## query database & create dataframe"
   ]
  },
  {
   "cell_type": "code",
   "execution_count": 5,
   "metadata": {},
   "outputs": [
    {
     "data": {
      "text/html": [
       "<div>\n",
       "<style scoped>\n",
       "    .dataframe tbody tr th:only-of-type {\n",
       "        vertical-align: middle;\n",
       "    }\n",
       "\n",
       "    .dataframe tbody tr th {\n",
       "        vertical-align: top;\n",
       "    }\n",
       "\n",
       "    .dataframe thead th {\n",
       "        text-align: right;\n",
       "    }\n",
       "</style>\n",
       "<table border=\"1\" class=\"dataframe\">\n",
       "  <thead>\n",
       "    <tr style=\"text-align: right;\">\n",
       "      <th></th>\n",
       "      <th>id</th>\n",
       "      <th>mssubclass</th>\n",
       "      <th>mszoning</th>\n",
       "      <th>lotfrontage</th>\n",
       "      <th>lotarea</th>\n",
       "      <th>street</th>\n",
       "      <th>alley</th>\n",
       "      <th>lotshape</th>\n",
       "      <th>landcontour</th>\n",
       "      <th>utilities</th>\n",
       "      <th>...</th>\n",
       "      <th>poolarea</th>\n",
       "      <th>poolqc</th>\n",
       "      <th>fence</th>\n",
       "      <th>miscfeature</th>\n",
       "      <th>miscval</th>\n",
       "      <th>mosold</th>\n",
       "      <th>yrsold</th>\n",
       "      <th>saletype</th>\n",
       "      <th>salecondition</th>\n",
       "      <th>saleprice</th>\n",
       "    </tr>\n",
       "  </thead>\n",
       "  <tbody>\n",
       "    <tr>\n",
       "      <td>0</td>\n",
       "      <td>1</td>\n",
       "      <td>60</td>\n",
       "      <td>RL</td>\n",
       "      <td>65.0</td>\n",
       "      <td>8450</td>\n",
       "      <td>Pave</td>\n",
       "      <td>None</td>\n",
       "      <td>Reg</td>\n",
       "      <td>Lvl</td>\n",
       "      <td>AllPub</td>\n",
       "      <td>...</td>\n",
       "      <td>0</td>\n",
       "      <td>None</td>\n",
       "      <td>None</td>\n",
       "      <td>None</td>\n",
       "      <td>0</td>\n",
       "      <td>2</td>\n",
       "      <td>2008</td>\n",
       "      <td>WD</td>\n",
       "      <td>Normal</td>\n",
       "      <td>208500</td>\n",
       "    </tr>\n",
       "    <tr>\n",
       "      <td>1</td>\n",
       "      <td>2</td>\n",
       "      <td>20</td>\n",
       "      <td>RL</td>\n",
       "      <td>80.0</td>\n",
       "      <td>9600</td>\n",
       "      <td>Pave</td>\n",
       "      <td>None</td>\n",
       "      <td>Reg</td>\n",
       "      <td>Lvl</td>\n",
       "      <td>AllPub</td>\n",
       "      <td>...</td>\n",
       "      <td>0</td>\n",
       "      <td>None</td>\n",
       "      <td>None</td>\n",
       "      <td>None</td>\n",
       "      <td>0</td>\n",
       "      <td>5</td>\n",
       "      <td>2007</td>\n",
       "      <td>WD</td>\n",
       "      <td>Normal</td>\n",
       "      <td>181500</td>\n",
       "    </tr>\n",
       "    <tr>\n",
       "      <td>2</td>\n",
       "      <td>3</td>\n",
       "      <td>60</td>\n",
       "      <td>RL</td>\n",
       "      <td>68.0</td>\n",
       "      <td>11250</td>\n",
       "      <td>Pave</td>\n",
       "      <td>None</td>\n",
       "      <td>IR1</td>\n",
       "      <td>Lvl</td>\n",
       "      <td>AllPub</td>\n",
       "      <td>...</td>\n",
       "      <td>0</td>\n",
       "      <td>None</td>\n",
       "      <td>None</td>\n",
       "      <td>None</td>\n",
       "      <td>0</td>\n",
       "      <td>9</td>\n",
       "      <td>2008</td>\n",
       "      <td>WD</td>\n",
       "      <td>Normal</td>\n",
       "      <td>223500</td>\n",
       "    </tr>\n",
       "    <tr>\n",
       "      <td>3</td>\n",
       "      <td>4</td>\n",
       "      <td>70</td>\n",
       "      <td>RL</td>\n",
       "      <td>60.0</td>\n",
       "      <td>9550</td>\n",
       "      <td>Pave</td>\n",
       "      <td>None</td>\n",
       "      <td>IR1</td>\n",
       "      <td>Lvl</td>\n",
       "      <td>AllPub</td>\n",
       "      <td>...</td>\n",
       "      <td>0</td>\n",
       "      <td>None</td>\n",
       "      <td>None</td>\n",
       "      <td>None</td>\n",
       "      <td>0</td>\n",
       "      <td>2</td>\n",
       "      <td>2006</td>\n",
       "      <td>WD</td>\n",
       "      <td>Abnorml</td>\n",
       "      <td>140000</td>\n",
       "    </tr>\n",
       "    <tr>\n",
       "      <td>4</td>\n",
       "      <td>5</td>\n",
       "      <td>60</td>\n",
       "      <td>RL</td>\n",
       "      <td>84.0</td>\n",
       "      <td>14260</td>\n",
       "      <td>Pave</td>\n",
       "      <td>None</td>\n",
       "      <td>IR1</td>\n",
       "      <td>Lvl</td>\n",
       "      <td>AllPub</td>\n",
       "      <td>...</td>\n",
       "      <td>0</td>\n",
       "      <td>None</td>\n",
       "      <td>None</td>\n",
       "      <td>None</td>\n",
       "      <td>0</td>\n",
       "      <td>12</td>\n",
       "      <td>2008</td>\n",
       "      <td>WD</td>\n",
       "      <td>Normal</td>\n",
       "      <td>250000</td>\n",
       "    </tr>\n",
       "  </tbody>\n",
       "</table>\n",
       "<p>5 rows × 81 columns</p>\n",
       "</div>"
      ],
      "text/plain": [
       "   id  mssubclass mszoning  lotfrontage  lotarea street alley lotshape  \\\n",
       "0   1          60       RL         65.0     8450   Pave  None      Reg   \n",
       "1   2          20       RL         80.0     9600   Pave  None      Reg   \n",
       "2   3          60       RL         68.0    11250   Pave  None      IR1   \n",
       "3   4          70       RL         60.0     9550   Pave  None      IR1   \n",
       "4   5          60       RL         84.0    14260   Pave  None      IR1   \n",
       "\n",
       "  landcontour utilities  ... poolarea poolqc fence miscfeature miscval mosold  \\\n",
       "0         Lvl    AllPub  ...        0   None  None        None       0      2   \n",
       "1         Lvl    AllPub  ...        0   None  None        None       0      5   \n",
       "2         Lvl    AllPub  ...        0   None  None        None       0      9   \n",
       "3         Lvl    AllPub  ...        0   None  None        None       0      2   \n",
       "4         Lvl    AllPub  ...        0   None  None        None       0     12   \n",
       "\n",
       "  yrsold  saletype  salecondition  saleprice  \n",
       "0   2008        WD         Normal     208500  \n",
       "1   2007        WD         Normal     181500  \n",
       "2   2008        WD         Normal     223500  \n",
       "3   2006        WD        Abnorml     140000  \n",
       "4   2008        WD         Normal     250000  \n",
       "\n",
       "[5 rows x 81 columns]"
      ]
     },
     "execution_count": 5,
     "metadata": {},
     "output_type": "execute_result"
    }
   ],
   "source": [
    "engine = create_engine('postgresql://{}:{}@{}:{}/{}'.format(\n",
    "    postgres_user, postgres_pw, postgres_host, postgres_port, postgres_db))\n",
    "df = pd.read_sql_query('select * from houseprices',con=engine)\n",
    "\n",
    "# no need for an open connection, as we're only doing a single query\n",
    "engine.dispose()\n",
    "\n",
    "df.head()"
   ]
  },
  {
   "cell_type": "markdown",
   "metadata": {},
   "source": [
    "## read csv and create mortgage data frame"
   ]
  },
  {
   "cell_type": "code",
   "execution_count": 6,
   "metadata": {
    "scrolled": true
   },
   "outputs": [
    {
     "data": {
      "text/html": [
       "<div>\n",
       "<style scoped>\n",
       "    .dataframe tbody tr th:only-of-type {\n",
       "        vertical-align: middle;\n",
       "    }\n",
       "\n",
       "    .dataframe tbody tr th {\n",
       "        vertical-align: top;\n",
       "    }\n",
       "\n",
       "    .dataframe thead th {\n",
       "        text-align: right;\n",
       "    }\n",
       "</style>\n",
       "<table border=\"1\" class=\"dataframe\">\n",
       "  <thead>\n",
       "    <tr style=\"text-align: right;\">\n",
       "      <th></th>\n",
       "      <th>Year</th>\n",
       "      <th>Month</th>\n",
       "      <th>Mortgage_Rate</th>\n",
       "      <th>Mortgage_Points</th>\n",
       "      <th>Year_Month</th>\n",
       "    </tr>\n",
       "  </thead>\n",
       "  <tbody>\n",
       "    <tr>\n",
       "      <td>0</td>\n",
       "      <td>2006</td>\n",
       "      <td>1</td>\n",
       "      <td>0.0615</td>\n",
       "      <td>0.5</td>\n",
       "      <td>2006_1</td>\n",
       "    </tr>\n",
       "    <tr>\n",
       "      <td>1</td>\n",
       "      <td>2006</td>\n",
       "      <td>2</td>\n",
       "      <td>0.0625</td>\n",
       "      <td>0.6</td>\n",
       "      <td>2006_2</td>\n",
       "    </tr>\n",
       "    <tr>\n",
       "      <td>2</td>\n",
       "      <td>2006</td>\n",
       "      <td>3</td>\n",
       "      <td>0.0632</td>\n",
       "      <td>0.6</td>\n",
       "      <td>2006_3</td>\n",
       "    </tr>\n",
       "    <tr>\n",
       "      <td>3</td>\n",
       "      <td>2006</td>\n",
       "      <td>4</td>\n",
       "      <td>0.0651</td>\n",
       "      <td>0.6</td>\n",
       "      <td>2006_4</td>\n",
       "    </tr>\n",
       "    <tr>\n",
       "      <td>4</td>\n",
       "      <td>2006</td>\n",
       "      <td>5</td>\n",
       "      <td>0.0660</td>\n",
       "      <td>0.5</td>\n",
       "      <td>2006_5</td>\n",
       "    </tr>\n",
       "  </tbody>\n",
       "</table>\n",
       "</div>"
      ],
      "text/plain": [
       "   Year  Month  Mortgage_Rate  Mortgage_Points Year_Month\n",
       "0  2006      1         0.0615              0.5     2006_1\n",
       "1  2006      2         0.0625              0.6     2006_2\n",
       "2  2006      3         0.0632              0.6     2006_3\n",
       "3  2006      4         0.0651              0.6     2006_4\n",
       "4  2006      5         0.0660              0.5     2006_5"
      ]
     },
     "execution_count": 6,
     "metadata": {},
     "output_type": "execute_result"
    }
   ],
   "source": [
    "df_mort = pd.read_csv('freddie_mac_mortgate_rates.csv')\n",
    "df_mort.Rate = (df_mort.Rate/100).copy()\n",
    "df_mort.columns = ['Year','Month','Mortgage_Rate','Mortgage_Points']\n",
    "df_mort['Year_Month'] = df_mort.Year.astype(str) + '_' + df_mort.Month.astype(str)\n",
    "df_mort.head()"
   ]
  },
  {
   "cell_type": "markdown",
   "metadata": {},
   "source": [
    "## Look up mortgage rates and points and add to data frame"
   ]
  },
  {
   "cell_type": "code",
   "execution_count": 7,
   "metadata": {
    "scrolled": false
   },
   "outputs": [
    {
     "name": "stdout",
     "output_type": "stream",
     "text": [
      "<class 'pandas.core.frame.DataFrame'>\n",
      "RangeIndex: 1460 entries, 0 to 1459\n",
      "Data columns (total 3 columns):\n",
      "Sold               1460 non-null object\n",
      "Mortgage_Rate      1460 non-null float64\n",
      "Mortgage_Points    1460 non-null float64\n",
      "dtypes: float64(2), object(1)\n",
      "memory usage: 34.3+ KB\n"
     ]
    }
   ],
   "source": [
    "# Add variable combining Year and Month sold into single value\n",
    "df['Sold'] = df.yrsold.astype(str) + '_' + df.mosold.astype(str)\n",
    "\n",
    "# Use new variable to look up Mortgage Rate and Points from mortgage data frame\n",
    "# and add to the main data frame\n",
    "df['Mortgage_Rate'] = df.Sold.apply(lambda x: df_mort.loc[df_mort.Year_Month == x].Mortgage_Rate.iloc[0])\n",
    "df['Mortgage_Points'] = df.Sold.apply(lambda x: df_mort.loc[df_mort.Year_Month == x].Mortgage_Points.iloc[0])\n",
    "\n",
    "# Check data frame\n",
    "#df.head()\n",
    "df[['Sold','Mortgage_Rate','Mortgage_Points']].info()"
   ]
  },
  {
   "cell_type": "markdown",
   "metadata": {},
   "source": [
    "# DATA CLEANING\n",
    "---"
   ]
  },
  {
   "cell_type": "markdown",
   "metadata": {},
   "source": [
    "## variable sorting"
   ]
  },
  {
   "cell_type": "code",
   "execution_count": 8,
   "metadata": {},
   "outputs": [
    {
     "name": "stdout",
     "output_type": "stream",
     "text": [
      "continuous variables\n",
      "---\n",
      " ['mssubclass', 'lotfrontage', 'lotarea', 'overallqual', 'overallcond', 'yearbuilt', 'yearremodadd', 'masvnrarea', 'bsmtfinsf1', 'bsmtfinsf2', 'bsmtunfsf', 'totalbsmtsf', 'firstflrsf', 'secondflrsf', 'lowqualfinsf', 'grlivarea', 'bsmtfullbath', 'bsmthalfbath', 'fullbath', 'halfbath', 'bedroomabvgr', 'kitchenabvgr', 'totrmsabvgrd', 'fireplaces', 'garageyrblt', 'garagecars', 'garagearea', 'wooddecksf', 'openporchsf', 'enclosedporch', 'threessnporch', 'screenporch', 'poolarea', 'miscval', 'mosold', 'yrsold', 'Mortgage_Rate', 'Mortgage_Points']\n",
      "\n",
      "categorical variables\n",
      "---\n",
      " ['mszoning', 'street', 'alley', 'lotshape', 'landcontour', 'utilities', 'lotconfig', 'landslope', 'neighborhood', 'condition1', 'condition2', 'bldgtype', 'housestyle', 'roofstyle', 'roofmatl', 'exterior1st', 'exterior2nd', 'masvnrtype', 'exterqual', 'extercond', 'foundation', 'bsmtqual', 'bsmtcond', 'bsmtexposure', 'bsmtfintype1', 'bsmtfintype2', 'heating', 'heatingqc', 'centralair', 'electrical', 'kitchenqual', 'functional', 'fireplacequ', 'garagetype', 'garagefinish', 'garagequal', 'garagecond', 'paveddrive', 'poolqc', 'fence', 'miscfeature', 'saletype', 'salecondition', 'Sold', 'id']\n"
     ]
    }
   ],
   "source": [
    "# create list of continuous variables\n",
    "cont_vars = list(df.select_dtypes(include=['int64','float64']).dtypes.to_frame('type').reset_index()['index'].values)\n",
    "# id is numerical but is a categorical variable\n",
    "cont_vars.remove('id')\n",
    "# saleprice is numerical but is the target variable\n",
    "cont_vars.remove('saleprice')\n",
    "\n",
    "# create list of categorical variables\n",
    "cat_vars = list(df.select_dtypes(exclude=['int64','float64']).dtypes.to_frame('type').reset_index()['index'].values)\n",
    "# add id to list\n",
    "cat_vars.append('id')\n",
    "\n",
    "# define target variable\n",
    "target_var = 'saleprice'\n",
    "\n",
    "print('continuous variables\\n---\\n', cont_vars)\n",
    "print()\n",
    "print('categorical variables\\n---\\n', cat_vars)"
   ]
  },
  {
   "cell_type": "markdown",
   "metadata": {},
   "source": [
    "## check for missing values"
   ]
  },
  {
   "cell_type": "code",
   "execution_count": 9,
   "metadata": {},
   "outputs": [
    {
     "data": {
      "text/html": [
       "<div>\n",
       "<style scoped>\n",
       "    .dataframe tbody tr th:only-of-type {\n",
       "        vertical-align: middle;\n",
       "    }\n",
       "\n",
       "    .dataframe tbody tr th {\n",
       "        vertical-align: top;\n",
       "    }\n",
       "\n",
       "    .dataframe thead th {\n",
       "        text-align: right;\n",
       "    }\n",
       "</style>\n",
       "<table border=\"1\" class=\"dataframe\">\n",
       "  <thead>\n",
       "    <tr style=\"text-align: right;\">\n",
       "      <th></th>\n",
       "      <th>Count</th>\n",
       "      <th>Percent</th>\n",
       "    </tr>\n",
       "  </thead>\n",
       "  <tbody>\n",
       "    <tr>\n",
       "      <td>poolqc</td>\n",
       "      <td>1453</td>\n",
       "      <td>99.520548</td>\n",
       "    </tr>\n",
       "    <tr>\n",
       "      <td>miscfeature</td>\n",
       "      <td>1406</td>\n",
       "      <td>96.301370</td>\n",
       "    </tr>\n",
       "    <tr>\n",
       "      <td>alley</td>\n",
       "      <td>1369</td>\n",
       "      <td>93.767123</td>\n",
       "    </tr>\n",
       "    <tr>\n",
       "      <td>fence</td>\n",
       "      <td>1179</td>\n",
       "      <td>80.753425</td>\n",
       "    </tr>\n",
       "    <tr>\n",
       "      <td>fireplacequ</td>\n",
       "      <td>690</td>\n",
       "      <td>47.260274</td>\n",
       "    </tr>\n",
       "    <tr>\n",
       "      <td>lotfrontage</td>\n",
       "      <td>259</td>\n",
       "      <td>17.739726</td>\n",
       "    </tr>\n",
       "    <tr>\n",
       "      <td>garagefinish</td>\n",
       "      <td>81</td>\n",
       "      <td>5.547945</td>\n",
       "    </tr>\n",
       "    <tr>\n",
       "      <td>garagecond</td>\n",
       "      <td>81</td>\n",
       "      <td>5.547945</td>\n",
       "    </tr>\n",
       "    <tr>\n",
       "      <td>garagetype</td>\n",
       "      <td>81</td>\n",
       "      <td>5.547945</td>\n",
       "    </tr>\n",
       "    <tr>\n",
       "      <td>garageyrblt</td>\n",
       "      <td>81</td>\n",
       "      <td>5.547945</td>\n",
       "    </tr>\n",
       "    <tr>\n",
       "      <td>garagequal</td>\n",
       "      <td>81</td>\n",
       "      <td>5.547945</td>\n",
       "    </tr>\n",
       "    <tr>\n",
       "      <td>bsmtexposure</td>\n",
       "      <td>38</td>\n",
       "      <td>2.602740</td>\n",
       "    </tr>\n",
       "    <tr>\n",
       "      <td>bsmtfintype2</td>\n",
       "      <td>38</td>\n",
       "      <td>2.602740</td>\n",
       "    </tr>\n",
       "    <tr>\n",
       "      <td>bsmtfintype1</td>\n",
       "      <td>37</td>\n",
       "      <td>2.534247</td>\n",
       "    </tr>\n",
       "    <tr>\n",
       "      <td>bsmtcond</td>\n",
       "      <td>37</td>\n",
       "      <td>2.534247</td>\n",
       "    </tr>\n",
       "    <tr>\n",
       "      <td>bsmtqual</td>\n",
       "      <td>37</td>\n",
       "      <td>2.534247</td>\n",
       "    </tr>\n",
       "    <tr>\n",
       "      <td>masvnrarea</td>\n",
       "      <td>8</td>\n",
       "      <td>0.547945</td>\n",
       "    </tr>\n",
       "    <tr>\n",
       "      <td>masvnrtype</td>\n",
       "      <td>8</td>\n",
       "      <td>0.547945</td>\n",
       "    </tr>\n",
       "    <tr>\n",
       "      <td>electrical</td>\n",
       "      <td>1</td>\n",
       "      <td>0.068493</td>\n",
       "    </tr>\n",
       "  </tbody>\n",
       "</table>\n",
       "</div>"
      ],
      "text/plain": [
       "              Count    Percent\n",
       "poolqc         1453  99.520548\n",
       "miscfeature    1406  96.301370\n",
       "alley          1369  93.767123\n",
       "fence          1179  80.753425\n",
       "fireplacequ     690  47.260274\n",
       "lotfrontage     259  17.739726\n",
       "garagefinish     81   5.547945\n",
       "garagecond       81   5.547945\n",
       "garagetype       81   5.547945\n",
       "garageyrblt      81   5.547945\n",
       "garagequal       81   5.547945\n",
       "bsmtexposure     38   2.602740\n",
       "bsmtfintype2     38   2.602740\n",
       "bsmtfintype1     37   2.534247\n",
       "bsmtcond         37   2.534247\n",
       "bsmtqual         37   2.534247\n",
       "masvnrarea        8   0.547945\n",
       "masvnrtype        8   0.547945\n",
       "electrical        1   0.068493"
      ]
     },
     "execution_count": 9,
     "metadata": {},
     "output_type": "execute_result"
    }
   ],
   "source": [
    "# create new data frame\n",
    "df_missing = pd.DataFrame()\n",
    "\n",
    "# count NULL values for each column\n",
    "df_missing['Count'] = df.isnull().sum().sort_values(ascending=False)\n",
    "\n",
    "# calculate percentage of rows are NULL for each column\n",
    "df_missing['Percent'] = (df.isnull().sum()/df.isnull().count()).sort_values(ascending=False)*100\n",
    "\n",
    "# view non-zero NULL counts\n",
    "df_missing[df_missing.Count > 0]"
   ]
  },
  {
   "cell_type": "code",
   "execution_count": 10,
   "metadata": {
    "scrolled": true
   },
   "outputs": [
    {
     "name": "stdout",
     "output_type": "stream",
     "text": [
      "poolqc \n",
      "---\n",
      " [None 'Ex' 'Fa' 'Gd'] \n",
      "\n",
      "miscfeature \n",
      "---\n",
      " [None 'Shed' 'Gar2' 'Othr' 'TenC'] \n",
      "\n",
      "alley \n",
      "---\n",
      " [None 'Grvl' 'Pave'] \n",
      "\n",
      "fence \n",
      "---\n",
      " [None 'MnPrv' 'GdWo' 'GdPrv' 'MnWw'] \n",
      "\n",
      "fireplacequ \n",
      "---\n",
      " [None 'TA' 'Gd' 'Fa' 'Ex' 'Po'] \n",
      "\n",
      "lotfrontage \n",
      "---\n",
      " [ 65.  80.  68.  60.  84.  85.  75.  nan  51.  50.  70.  91.  72.  66.\n",
      " 101.  57.  44. 110.  98.  47. 108. 112.  74. 115.  61.  48.  33.  52.\n",
      " 100.  24.  89.  63.  76.  81.  95.  69.  21.  32.  78. 121. 122.  40.\n",
      " 105.  73.  77.  64.  94.  34.  90.  55.  88.  82.  71. 120. 107.  92.\n",
      " 134.  62.  86. 141.  97.  54.  41.  79. 174.  99.  67.  83.  43. 103.\n",
      "  93.  30. 129. 140.  35.  37. 118.  87. 116. 150. 111.  49.  96.  59.\n",
      "  36.  56. 102.  58.  38. 109. 130.  53. 137.  45. 106. 104.  42.  39.\n",
      " 144. 114. 128. 149. 313. 168. 182. 138. 160. 152. 124. 153.  46.] \n",
      "\n",
      "garagefinish \n",
      "---\n",
      " ['RFn' 'Unf' 'Fin' None] \n",
      "\n",
      "garagecond \n",
      "---\n",
      " ['TA' 'Fa' None 'Gd' 'Po' 'Ex'] \n",
      "\n",
      "garagetype \n",
      "---\n",
      " ['Attchd' 'Detchd' 'BuiltIn' 'CarPort' None 'Basment' '2Types'] \n",
      "\n",
      "garageyrblt \n",
      "---\n",
      " [2003. 1976. 2001. 1998. 2000. 1993. 2004. 1973. 1931. 1939. 1965. 2005.\n",
      " 1962. 2006. 1960. 1991. 1970. 1967. 1958. 1930. 2002. 1968. 2007. 2008.\n",
      " 1957. 1920. 1966. 1959. 1995. 1954. 1953.   nan 1983. 1977. 1997. 1985.\n",
      " 1963. 1981. 1964. 1999. 1935. 1990. 1945. 1987. 1989. 1915. 1956. 1948.\n",
      " 1974. 2009. 1950. 1961. 1921. 1900. 1979. 1951. 1969. 1936. 1975. 1971.\n",
      " 1923. 1984. 1926. 1955. 1986. 1988. 1916. 1932. 1972. 1918. 1980. 1924.\n",
      " 1996. 1940. 1949. 1994. 1910. 1978. 1982. 1992. 1925. 1941. 2010. 1927.\n",
      " 1947. 1937. 1942. 1938. 1952. 1928. 1922. 1934. 1906. 1914. 1946. 1908.\n",
      " 1929. 1933.] \n",
      "\n",
      "garagequal \n",
      "---\n",
      " ['TA' 'Fa' 'Gd' None 'Ex' 'Po'] \n",
      "\n",
      "bsmtexposure \n",
      "---\n",
      " ['No' 'Gd' 'Mn' 'Av' None] \n",
      "\n",
      "bsmtfintype2 \n",
      "---\n",
      " ['Unf' 'BLQ' None 'ALQ' 'Rec' 'LwQ' 'GLQ'] \n",
      "\n",
      "bsmtfintype1 \n",
      "---\n",
      " ['GLQ' 'ALQ' 'Unf' 'Rec' 'BLQ' None 'LwQ'] \n",
      "\n",
      "bsmtcond \n",
      "---\n",
      " ['TA' 'Gd' None 'Fa' 'Po'] \n",
      "\n",
      "bsmtqual \n",
      "---\n",
      " ['Gd' 'TA' 'Ex' None 'Fa'] \n",
      "\n",
      "masvnrarea \n",
      "---\n",
      " [1.960e+02 0.000e+00 1.620e+02 3.500e+02 1.860e+02 2.400e+02 2.860e+02\n",
      " 3.060e+02 2.120e+02 1.800e+02 3.800e+02 2.810e+02 6.400e+02 2.000e+02\n",
      " 2.460e+02 1.320e+02 6.500e+02 1.010e+02 4.120e+02 2.720e+02 4.560e+02\n",
      " 1.031e+03 1.780e+02 5.730e+02 3.440e+02 2.870e+02 1.670e+02 1.115e+03\n",
      " 4.000e+01 1.040e+02 5.760e+02 4.430e+02 4.680e+02 6.600e+01 2.200e+01\n",
      " 2.840e+02 7.600e+01 2.030e+02 6.800e+01 1.830e+02 4.800e+01 2.800e+01\n",
      " 3.360e+02 6.000e+02 7.680e+02 4.800e+02 2.200e+02 1.840e+02 1.129e+03\n",
      " 1.160e+02 1.350e+02 2.660e+02 8.500e+01 3.090e+02 1.360e+02 2.880e+02\n",
      " 7.000e+01 3.200e+02 5.000e+01 1.200e+02 4.360e+02 2.520e+02 8.400e+01\n",
      " 6.640e+02 2.260e+02 3.000e+02 6.530e+02 1.120e+02 4.910e+02 2.680e+02\n",
      " 7.480e+02 9.800e+01 2.750e+02 1.380e+02 2.050e+02 2.620e+02 1.280e+02\n",
      " 2.600e+02 1.530e+02 6.400e+01 3.120e+02 1.600e+01 9.220e+02 1.420e+02\n",
      " 2.900e+02 1.270e+02 5.060e+02 2.970e+02       nan 6.040e+02 2.540e+02\n",
      " 3.600e+01 1.020e+02 4.720e+02 4.810e+02 1.080e+02 3.020e+02 1.720e+02\n",
      " 3.990e+02 2.700e+02 4.600e+01 2.100e+02 1.740e+02 3.480e+02 3.150e+02\n",
      " 2.990e+02 3.400e+02 1.660e+02 7.200e+01 3.100e+01 3.400e+01 2.380e+02\n",
      " 1.600e+03 3.650e+02 5.600e+01 1.500e+02 2.780e+02 2.560e+02 2.250e+02\n",
      " 3.700e+02 3.880e+02 1.750e+02 2.960e+02 1.460e+02 1.130e+02 1.760e+02\n",
      " 6.160e+02 3.000e+01 1.060e+02 8.700e+02 3.620e+02 5.300e+02 5.000e+02\n",
      " 5.100e+02 2.470e+02 3.050e+02 2.550e+02 1.250e+02 1.000e+02 4.320e+02\n",
      " 1.260e+02 4.730e+02 7.400e+01 1.450e+02 2.320e+02 3.760e+02 4.200e+01\n",
      " 1.610e+02 1.100e+02 1.800e+01 2.240e+02 2.480e+02 8.000e+01 3.040e+02\n",
      " 2.150e+02 7.720e+02 4.350e+02 3.780e+02 5.620e+02 1.680e+02 8.900e+01\n",
      " 2.850e+02 3.600e+02 9.400e+01 3.330e+02 9.210e+02 7.620e+02 5.940e+02\n",
      " 2.190e+02 1.880e+02 4.790e+02 5.840e+02 1.820e+02 2.500e+02 2.920e+02\n",
      " 2.450e+02 2.070e+02 8.200e+01 9.700e+01 3.350e+02 2.080e+02 4.200e+02\n",
      " 1.700e+02 4.590e+02 2.800e+02 9.900e+01 1.920e+02 2.040e+02 2.330e+02\n",
      " 1.560e+02 4.520e+02 5.130e+02 2.610e+02 1.640e+02 2.590e+02 2.090e+02\n",
      " 2.630e+02 2.160e+02 3.510e+02 6.600e+02 3.810e+02 5.400e+01 5.280e+02\n",
      " 2.580e+02 4.640e+02 5.700e+01 1.470e+02 1.170e+03 2.930e+02 6.300e+02\n",
      " 4.660e+02 1.090e+02 4.100e+01 1.600e+02 2.890e+02 6.510e+02 1.690e+02\n",
      " 9.500e+01 4.420e+02 2.020e+02 3.380e+02 8.940e+02 3.280e+02 6.730e+02\n",
      " 6.030e+02 1.000e+00 3.750e+02 9.000e+01 3.800e+01 1.570e+02 1.100e+01\n",
      " 1.400e+02 1.300e+02 1.480e+02 8.600e+02 4.240e+02 1.047e+03 2.430e+02\n",
      " 8.160e+02 3.870e+02 2.230e+02 1.580e+02 1.370e+02 1.150e+02 1.890e+02\n",
      " 2.740e+02 1.170e+02 6.000e+01 1.220e+02 9.200e+01 4.150e+02 7.600e+02\n",
      " 2.700e+01 7.500e+01 3.610e+02 1.050e+02 3.420e+02 2.980e+02 5.410e+02\n",
      " 2.360e+02 1.440e+02 4.230e+02 4.400e+01 1.510e+02 9.750e+02 4.500e+02\n",
      " 2.300e+02 5.710e+02 2.400e+01 5.300e+01 2.060e+02 1.400e+01 3.240e+02\n",
      " 2.950e+02 3.960e+02 6.700e+01 1.540e+02 4.250e+02 4.500e+01 1.378e+03\n",
      " 3.370e+02 1.490e+02 1.430e+02 5.100e+01 1.710e+02 2.340e+02 6.300e+01\n",
      " 7.660e+02 3.200e+01 8.100e+01 1.630e+02 5.540e+02 2.180e+02 6.320e+02\n",
      " 1.140e+02 5.670e+02 3.590e+02 4.510e+02 6.210e+02 7.880e+02 8.600e+01\n",
      " 7.960e+02 3.910e+02 2.280e+02 8.800e+01 1.650e+02 4.280e+02 4.100e+02\n",
      " 5.640e+02 3.680e+02 3.180e+02 5.790e+02 6.500e+01 7.050e+02 4.080e+02\n",
      " 2.440e+02 1.230e+02 3.660e+02 7.310e+02 4.480e+02 2.940e+02 3.100e+02\n",
      " 2.370e+02 4.260e+02 9.600e+01 4.380e+02 1.940e+02 1.190e+02] \n",
      "\n",
      "masvnrtype \n",
      "---\n",
      " ['BrkFace' 'None' 'Stone' 'BrkCmn' None] \n",
      "\n",
      "electrical \n",
      "---\n",
      " ['SBrkr' 'FuseF' 'FuseA' 'FuseP' 'Mix' None] \n",
      "\n"
     ]
    }
   ],
   "source": [
    "for col in df_missing[df_missing.Count > 0].reset_index()['index']:\n",
    "    print(col,'\\n---\\n',df[col].unique(),'\\n')"
   ]
  },
  {
   "cell_type": "markdown",
   "metadata": {},
   "source": [
    "##### The following variables with missing values will not be used as features.\n",
    " - poolqc, miscfeature, alley, fence, fireplacequ, lotfrontage\n",
    " - Dropping rows with missing values in these columns would vastly reduce the number of data points.\n",
    " - Majority of these are categorical, therefore values cannot be interpolated.\n",
    "\n",
    "<br></br>\n",
    "##### All other variables with missing values are missing only ~5.55% of data\n",
    " - These will be kept in consideration for feature engineering"
   ]
  },
  {
   "cell_type": "code",
   "execution_count": 11,
   "metadata": {},
   "outputs": [],
   "source": [
    "# list of excluded features\n",
    "excluded_features = ['poolqc', 'miscfeature', 'alley', 'fence', 'fireplacequ', 'lotfrontage']\n",
    "\n",
    "# iterate through list\n",
    "for excluded in excluded_features:\n",
    "    # remove from categorical variables list\n",
    "    if excluded in cat_vars:\n",
    "        cat_vars.remove(excluded)\n",
    "    # remove from continuous variables list\n",
    "    if excluded in cont_vars:  \n",
    "        cont_vars.remove(excluded)"
   ]
  },
  {
   "cell_type": "markdown",
   "metadata": {},
   "source": [
    "# DATA EXPLORATION\n",
    "---"
   ]
  },
  {
   "cell_type": "markdown",
   "metadata": {},
   "source": [
    "## saleprice distribution"
   ]
  },
  {
   "cell_type": "code",
   "execution_count": 12,
   "metadata": {},
   "outputs": [],
   "source": [
    "# log-transform saleprice and add to df\n",
    "df['saleprice_log'] = np.log(df.saleprice)\n",
    "\n",
    "if ENABLE_PLOTS:\n",
    "    # set figure size\n",
    "    plt.rcParams[\"figure.figsize\"] = (12,4)\n",
    "\n",
    "    # plot saleprice distribution\n",
    "    plt.subplot(1,2,1)\n",
    "    sns.distplot(df.saleprice)\n",
    "    plt.title('saleprice distribution', fontsize=30)\n",
    "    plt.xticks(rotation=90)\n",
    "\n",
    "\n",
    "\n",
    "    # plot saleprice_log distribution\n",
    "    plt.subplot(1,2,2)\n",
    "    sns.distplot(df.saleprice_log)\n",
    "    plt.title('saleprice distribution (log)', fontsize=30)\n",
    "    plt.xticks(rotation=90)\n",
    "\n",
    "    plt.tight_layout()\n",
    "    plt.savefig('housing_prices_distplot_saleprice')\n",
    "    plt.show()"
   ]
  },
  {
   "cell_type": "markdown",
   "metadata": {},
   "source": [
    "##### saleprice_log appears to have a more normal distribution than saleprice\n",
    " - Though saleprice_log, visually, has a more normal distribution, let's keep saleprice as the target variable.\n",
    " - We will still add saleprice_log into the dataframe and verify later that using it will improve the model."
   ]
  },
  {
   "cell_type": "markdown",
   "metadata": {},
   "source": [
    "## inspect categorical variables"
   ]
  },
  {
   "cell_type": "markdown",
   "metadata": {},
   "source": [
    "### saleprice split by categorical variables"
   ]
  },
  {
   "cell_type": "code",
   "execution_count": 13,
   "metadata": {},
   "outputs": [],
   "source": [
    "if ENABLE_PLOTS:\n",
    "    # set figure size\n",
    "    plt.rcParams['figure.figsize'] = (24,24)\n",
    "\n",
    "    # initialize subplot counter\n",
    "    i = 1\n",
    "\n",
    "    # iterate through list of categorical variables\n",
    "    for var in cat_vars:\n",
    "        # plot each variable against saleprice\n",
    "        plt.subplot(len(cat_vars)//5+1,5,i)\n",
    "        sns.barplot(df.saleprice,df[var])\n",
    "        i += 1\n",
    "\n",
    "    plt.tight_layout()\n",
    "    plt.savefig('housing_prices_barplot_cat_vars_vs_saleprice')\n",
    "    plt.show()"
   ]
  },
  {
   "cell_type": "markdown",
   "metadata": {},
   "source": [
    "### count records per categorical variable group"
   ]
  },
  {
   "cell_type": "code",
   "execution_count": 14,
   "metadata": {},
   "outputs": [],
   "source": [
    "if ENABLE_PLOTS:\n",
    "    # set figure size\n",
    "    plt.rcParams['figure.figsize'] = (24,24)\n",
    "\n",
    "    # initialize subplot counter\n",
    "    i = 1\n",
    "\n",
    "    # iterate through list of categorical variables\n",
    "    for var in cat_vars:\n",
    "        # plot count for each variable\n",
    "        plt.subplot(len(cat_vars)//5+1,5,i)\n",
    "        sns.countplot(df[var])\n",
    "        i += 1\n",
    "\n",
    "    plt.tight_layout()\n",
    "    plt.savefig('housing_prices_countplot_cat_vars')\n",
    "    plt.show()"
   ]
  },
  {
   "cell_type": "markdown",
   "metadata": {},
   "source": [
    "### saleprice correlation, split by categorical variables"
   ]
  },
  {
   "cell_type": "code",
   "execution_count": 15,
   "metadata": {},
   "outputs": [],
   "source": [
    "if ENABLE_PLOTS:\n",
    "    # set figure size\n",
    "    plt.rcParams['figure.figsize'] = (24,24)\n",
    "\n",
    "    # initialize subplot counter\n",
    "    i = 1\n",
    "\n",
    "    # iterate through list of categorical variables\n",
    "    for var in cat_vars:\n",
    "        # plot each variable against saleprice\n",
    "        plt.subplot(len(cat_vars)//5+1,5,i)\n",
    "        for val in df[var].unique():\n",
    "            sns.regplot(df[df[var] == val].overallqual,df[df[var] == val].saleprice, label=val)\n",
    "            plt.title(f'saleprice vs. overallqual\\nsplit by {var}')\n",
    "            #plt.legend(title=var)\n",
    "        i += 1\n",
    "    plt.tight_layout()\n",
    "    #plt.savefig('housing_prices_regplot_salepricelog_vs_cont_vars')\n",
    "    plt.show()"
   ]
  },
  {
   "cell_type": "markdown",
   "metadata": {},
   "source": [
    "##### It is difficult to visually rank categorical variables, so let's try ranking using the ANOVA test."
   ]
  },
  {
   "cell_type": "markdown",
   "metadata": {},
   "source": [
    "### anova test to rank categorical variables"
   ]
  },
  {
   "cell_type": "markdown",
   "metadata": {},
   "source": [
    "#### define function"
   ]
  },
  {
   "cell_type": "code",
   "execution_count": 16,
   "metadata": {},
   "outputs": [],
   "source": [
    "def anova_test(df_in, variables):\n",
    "\n",
    "    # initialize empty data frame\n",
    "    # this will be the return variable\n",
    "    df_anv = pd.DataFrame()\n",
    "    df_anv['feature'] = variables\n",
    "    pvals = []\n",
    "    \n",
    "    # iterate through categorical variables\n",
    "    for v in variables:\n",
    "        \n",
    "        # initialize empty samples list\n",
    "        samples = [];\n",
    "        \n",
    "        # iterate through each feature's levels\n",
    "        for level in df_in[v].unique():\n",
    "            \n",
    "            # collect the saleprices for each variable's levels\n",
    "            prices = df_in[df_in[v] == level].saleprice.values\n",
    "            samples.append(prices)\n",
    "        \n",
    "        # execute one-way ANOVA test and get p-value\n",
    "        pval = st.f_oneway(*samples)[1]\n",
    "        pvals.append(pval)\n",
    "        \n",
    "    df_anv['pval'] = pvals\n",
    "    return df_anv.sort_values('pval')"
   ]
  },
  {
   "cell_type": "markdown",
   "metadata": {},
   "source": [
    "#### plot categorical variable ranking"
   ]
  },
  {
   "cell_type": "code",
   "execution_count": 17,
   "metadata": {},
   "outputs": [],
   "source": [
    "# execute anova test\n",
    "a = anova_test(df, cat_vars)\n",
    "\n",
    "# calculate and add disparity\n",
    "a['disparity'] = np.log(1/a['pval'])\n",
    "\n",
    "if ENABLE_PLOTS:\n",
    "    # set figure size\n",
    "    plt.rcParams['figure.figsize'] = (12,4)\n",
    "    \n",
    "    sns.barplot(data=a, x='feature', y='disparity')\n",
    "    plt.title('Disparity of Categorical Features')\n",
    "    plt.xticks(rotation=90)\n",
    "    \n",
    "    plt.tight_layout()\n",
    "    plt.savefig('categorical_variables_ranked_by_disparity')\n",
    "    plt.show()"
   ]
  },
  {
   "cell_type": "markdown",
   "metadata": {},
   "source": [
    "##### Based on the rankings, we will consider the top 10 categorical variables above in feature engineering."
   ]
  },
  {
   "cell_type": "code",
   "execution_count": 18,
   "metadata": {},
   "outputs": [
    {
     "data": {
      "text/plain": [
       "['neighborhood',\n",
       " 'exterqual',\n",
       " 'kitchenqual',\n",
       " 'foundation',\n",
       " 'heatingqc',\n",
       " 'salecondition',\n",
       " 'exterior1st',\n",
       " 'exterior2nd',\n",
       " 'saletype',\n",
       " 'mszoning']"
      ]
     },
     "execution_count": 18,
     "metadata": {},
     "output_type": "execute_result"
    }
   ],
   "source": [
    "cat_feats = list(a.feature.values)[:10]\n",
    "cat_feats"
   ]
  },
  {
   "cell_type": "markdown",
   "metadata": {},
   "source": [
    "## inspect continuous variables"
   ]
  },
  {
   "cell_type": "markdown",
   "metadata": {},
   "source": [
    "### regression plots (against saleprice)"
   ]
  },
  {
   "cell_type": "code",
   "execution_count": 19,
   "metadata": {
    "scrolled": false
   },
   "outputs": [],
   "source": [
    "if ENABLE_PLOTS:\n",
    "    # set figure size\n",
    "    plt.rcParams['figure.figsize'] = (24,24)\n",
    "\n",
    "    # initialize subplot counter\n",
    "    i = 1\n",
    "\n",
    "    # iterate through list of categorical variables\n",
    "    for var in cont_vars:\n",
    "        # plot each variable against saleprice\n",
    "        plt.subplot(len(cont_vars)//5+1,5,i)\n",
    "        sns.regplot(df[var],df.saleprice)\n",
    "        i += 1\n",
    "\n",
    "    plt.tight_layout()\n",
    "    plt.savefig('housing_prices_regplot_saleprice_vs_cont_vars')\n",
    "    plt.show()"
   ]
  },
  {
   "cell_type": "markdown",
   "metadata": {},
   "source": [
    "### correlation matrix"
   ]
  },
  {
   "cell_type": "code",
   "execution_count": 20,
   "metadata": {},
   "outputs": [],
   "source": [
    "if ENABLE_PLOTS:\n",
    "    # set figure size\n",
    "    plt.rcParams['figure.figsize'] = (8,8)\n",
    "\n",
    "    # plot heatmap\n",
    "    sns.heatmap(df.corr(), square=True, linewidth=0.5)#, annot=True)\n",
    "\n",
    "    plt.tight_layout()\n",
    "    plt.show()"
   ]
  },
  {
   "cell_type": "markdown",
   "metadata": {},
   "source": [
    "##### It is difficult to visually rank the continuous variables by correlation with saleprice. Instead we will use `.corrwith()` to correlate with saleprice only and sort the result."
   ]
  },
  {
   "cell_type": "markdown",
   "metadata": {},
   "source": [
    "### correlation with saleprice only"
   ]
  },
  {
   "cell_type": "code",
   "execution_count": 21,
   "metadata": {},
   "outputs": [
    {
     "data": {
      "text/plain": [
       "saleprice          1.000000\n",
       "saleprice_log      0.948374\n",
       "overallqual        0.790982\n",
       "grlivarea          0.708624\n",
       "garagecars         0.640409\n",
       "garagearea         0.623431\n",
       "totalbsmtsf        0.613581\n",
       "firstflrsf         0.605852\n",
       "fullbath           0.560664\n",
       "totrmsabvgrd       0.533723\n",
       "yearbuilt          0.522897\n",
       "yearremodadd       0.507101\n",
       "garageyrblt        0.486362\n",
       "masvnrarea         0.477493\n",
       "fireplaces         0.466929\n",
       "bsmtfinsf1         0.386420\n",
       "lotfrontage        0.351799\n",
       "wooddecksf         0.324413\n",
       "secondflrsf        0.319334\n",
       "openporchsf        0.315856\n",
       "halfbath           0.284108\n",
       "lotarea            0.263843\n",
       "bsmtfullbath       0.227122\n",
       "bsmtunfsf          0.214479\n",
       "bedroomabvgr       0.168213\n",
       "screenporch        0.111447\n",
       "poolarea           0.092404\n",
       "mosold             0.046432\n",
       "threessnporch      0.044584\n",
       "Mortgage_Rate      0.028198\n",
       "bsmtfinsf2        -0.011378\n",
       "bsmthalfbath      -0.016844\n",
       "Mortgage_Points   -0.019364\n",
       "miscval           -0.021190\n",
       "id                -0.021917\n",
       "lowqualfinsf      -0.025606\n",
       "yrsold            -0.028923\n",
       "overallcond       -0.077856\n",
       "mssubclass        -0.084284\n",
       "enclosedporch     -0.128578\n",
       "kitchenabvgr      -0.135907\n",
       "dtype: float64"
      ]
     },
     "execution_count": 21,
     "metadata": {},
     "output_type": "execute_result"
    }
   ],
   "source": [
    "df.corrwith(df.saleprice).sort_values(ascending=False)"
   ]
  },
  {
   "cell_type": "markdown",
   "metadata": {},
   "source": [
    "##### Based on the above list, we will consider the top 6 correlating variables (excluding saleprice and saleprice_log) for feature engineering."
   ]
  },
  {
   "cell_type": "code",
   "execution_count": 22,
   "metadata": {},
   "outputs": [
    {
     "data": {
      "text/plain": [
       "['overallqual',\n",
       " 'grlivarea',\n",
       " 'garagecars',\n",
       " 'garagearea',\n",
       " 'totalbsmtsf',\n",
       " 'firstflrsf',\n",
       " 'Mortgage_Rate',\n",
       " 'Mortgage_Points']"
      ]
     },
     "execution_count": 22,
     "metadata": {},
     "output_type": "execute_result"
    }
   ],
   "source": [
    "cont_feats = list(df.corrwith(df.saleprice).sort_values(ascending=False).reset_index()['index'].values)[2:8]\n",
    "cont_feats.append('Mortgage_Rate')\n",
    "cont_feats.append('Mortgage_Points')\n",
    "cont_feats"
   ]
  },
  {
   "cell_type": "code",
   "execution_count": 23,
   "metadata": {},
   "outputs": [],
   "source": [
    "if ENABLE_PLOTS:\n",
    "    # set figure size\n",
    "    plt.rcParams['figure.figsize'] = (12,4)\n",
    "\n",
    "    # initialize subplot counter\n",
    "    i = 1\n",
    "\n",
    "    # iterate through list of categorical variables\n",
    "    for var in cont_feats:\n",
    "        # plot each variable against saleprice\n",
    "        plt.subplot(2,3,i)\n",
    "        sns.regplot(df[var],df.saleprice)\n",
    "        i += 1\n",
    "\n",
    "    plt.tight_layout()\n",
    "    plt.savefig('housing_prices_regplot_saleprice_vs_cont_vars_top')\n",
    "    plt.show()"
   ]
  },
  {
   "cell_type": "markdown",
   "metadata": {},
   "source": [
    "# FEATURE ENGINEERING\n",
    "---"
   ]
  },
  {
   "cell_type": "markdown",
   "metadata": {},
   "source": [
    "## feature selection"
   ]
  },
  {
   "cell_type": "code",
   "execution_count": 24,
   "metadata": {},
   "outputs": [
    {
     "data": {
      "text/html": [
       "<div>\n",
       "<style scoped>\n",
       "    .dataframe tbody tr th:only-of-type {\n",
       "        vertical-align: middle;\n",
       "    }\n",
       "\n",
       "    .dataframe tbody tr th {\n",
       "        vertical-align: top;\n",
       "    }\n",
       "\n",
       "    .dataframe thead th {\n",
       "        text-align: right;\n",
       "    }\n",
       "</style>\n",
       "<table border=\"1\" class=\"dataframe\">\n",
       "  <thead>\n",
       "    <tr style=\"text-align: right;\">\n",
       "      <th></th>\n",
       "      <th>saleprice</th>\n",
       "      <th>saleprice_log</th>\n",
       "      <th>neighborhood</th>\n",
       "      <th>exterqual</th>\n",
       "      <th>kitchenqual</th>\n",
       "      <th>foundation</th>\n",
       "      <th>heatingqc</th>\n",
       "      <th>salecondition</th>\n",
       "      <th>exterior1st</th>\n",
       "      <th>exterior2nd</th>\n",
       "      <th>saletype</th>\n",
       "      <th>mszoning</th>\n",
       "      <th>overallqual</th>\n",
       "      <th>grlivarea</th>\n",
       "      <th>garagecars</th>\n",
       "      <th>garagearea</th>\n",
       "      <th>totalbsmtsf</th>\n",
       "      <th>firstflrsf</th>\n",
       "      <th>Mortgage_Rate</th>\n",
       "      <th>Mortgage_Points</th>\n",
       "    </tr>\n",
       "  </thead>\n",
       "  <tbody>\n",
       "    <tr>\n",
       "      <td>0</td>\n",
       "      <td>208500</td>\n",
       "      <td>12.247694</td>\n",
       "      <td>CollgCr</td>\n",
       "      <td>Gd</td>\n",
       "      <td>Gd</td>\n",
       "      <td>PConc</td>\n",
       "      <td>Ex</td>\n",
       "      <td>Normal</td>\n",
       "      <td>VinylSd</td>\n",
       "      <td>VinylSd</td>\n",
       "      <td>WD</td>\n",
       "      <td>RL</td>\n",
       "      <td>7</td>\n",
       "      <td>1710</td>\n",
       "      <td>2</td>\n",
       "      <td>548</td>\n",
       "      <td>856</td>\n",
       "      <td>856</td>\n",
       "      <td>0.0592</td>\n",
       "      <td>0.5</td>\n",
       "    </tr>\n",
       "    <tr>\n",
       "      <td>1</td>\n",
       "      <td>181500</td>\n",
       "      <td>12.109011</td>\n",
       "      <td>Veenker</td>\n",
       "      <td>TA</td>\n",
       "      <td>TA</td>\n",
       "      <td>CBlock</td>\n",
       "      <td>Ex</td>\n",
       "      <td>Normal</td>\n",
       "      <td>MetalSd</td>\n",
       "      <td>MetalSd</td>\n",
       "      <td>WD</td>\n",
       "      <td>RL</td>\n",
       "      <td>6</td>\n",
       "      <td>1262</td>\n",
       "      <td>2</td>\n",
       "      <td>460</td>\n",
       "      <td>1262</td>\n",
       "      <td>1262</td>\n",
       "      <td>0.0626</td>\n",
       "      <td>0.4</td>\n",
       "    </tr>\n",
       "    <tr>\n",
       "      <td>2</td>\n",
       "      <td>223500</td>\n",
       "      <td>12.317167</td>\n",
       "      <td>CollgCr</td>\n",
       "      <td>Gd</td>\n",
       "      <td>Gd</td>\n",
       "      <td>PConc</td>\n",
       "      <td>Ex</td>\n",
       "      <td>Normal</td>\n",
       "      <td>VinylSd</td>\n",
       "      <td>VinylSd</td>\n",
       "      <td>WD</td>\n",
       "      <td>RL</td>\n",
       "      <td>7</td>\n",
       "      <td>1786</td>\n",
       "      <td>2</td>\n",
       "      <td>608</td>\n",
       "      <td>920</td>\n",
       "      <td>920</td>\n",
       "      <td>0.0604</td>\n",
       "      <td>0.7</td>\n",
       "    </tr>\n",
       "    <tr>\n",
       "      <td>3</td>\n",
       "      <td>140000</td>\n",
       "      <td>11.849398</td>\n",
       "      <td>Crawfor</td>\n",
       "      <td>TA</td>\n",
       "      <td>Gd</td>\n",
       "      <td>BrkTil</td>\n",
       "      <td>Gd</td>\n",
       "      <td>Abnorml</td>\n",
       "      <td>Wd Sdng</td>\n",
       "      <td>Wd Shng</td>\n",
       "      <td>WD</td>\n",
       "      <td>RL</td>\n",
       "      <td>7</td>\n",
       "      <td>1717</td>\n",
       "      <td>3</td>\n",
       "      <td>642</td>\n",
       "      <td>756</td>\n",
       "      <td>961</td>\n",
       "      <td>0.0625</td>\n",
       "      <td>0.6</td>\n",
       "    </tr>\n",
       "    <tr>\n",
       "      <td>4</td>\n",
       "      <td>250000</td>\n",
       "      <td>12.429216</td>\n",
       "      <td>NoRidge</td>\n",
       "      <td>Gd</td>\n",
       "      <td>Gd</td>\n",
       "      <td>PConc</td>\n",
       "      <td>Ex</td>\n",
       "      <td>Normal</td>\n",
       "      <td>VinylSd</td>\n",
       "      <td>VinylSd</td>\n",
       "      <td>WD</td>\n",
       "      <td>RL</td>\n",
       "      <td>8</td>\n",
       "      <td>2198</td>\n",
       "      <td>3</td>\n",
       "      <td>836</td>\n",
       "      <td>1145</td>\n",
       "      <td>1145</td>\n",
       "      <td>0.0529</td>\n",
       "      <td>0.7</td>\n",
       "    </tr>\n",
       "  </tbody>\n",
       "</table>\n",
       "</div>"
      ],
      "text/plain": [
       "   saleprice  saleprice_log neighborhood exterqual kitchenqual foundation  \\\n",
       "0     208500      12.247694      CollgCr        Gd          Gd      PConc   \n",
       "1     181500      12.109011      Veenker        TA          TA     CBlock   \n",
       "2     223500      12.317167      CollgCr        Gd          Gd      PConc   \n",
       "3     140000      11.849398      Crawfor        TA          Gd     BrkTil   \n",
       "4     250000      12.429216      NoRidge        Gd          Gd      PConc   \n",
       "\n",
       "  heatingqc salecondition exterior1st exterior2nd saletype mszoning  \\\n",
       "0        Ex        Normal     VinylSd     VinylSd       WD       RL   \n",
       "1        Ex        Normal     MetalSd     MetalSd       WD       RL   \n",
       "2        Ex        Normal     VinylSd     VinylSd       WD       RL   \n",
       "3        Gd       Abnorml     Wd Sdng     Wd Shng       WD       RL   \n",
       "4        Ex        Normal     VinylSd     VinylSd       WD       RL   \n",
       "\n",
       "   overallqual  grlivarea  garagecars  garagearea  totalbsmtsf  firstflrsf  \\\n",
       "0            7       1710           2         548          856         856   \n",
       "1            6       1262           2         460         1262        1262   \n",
       "2            7       1786           2         608          920         920   \n",
       "3            7       1717           3         642          756         961   \n",
       "4            8       2198           3         836         1145        1145   \n",
       "\n",
       "   Mortgage_Rate  Mortgage_Points  \n",
       "0         0.0592              0.5  \n",
       "1         0.0626              0.4  \n",
       "2         0.0604              0.7  \n",
       "3         0.0625              0.6  \n",
       "4         0.0529              0.7  "
      ]
     },
     "execution_count": 24,
     "metadata": {},
     "output_type": "execute_result"
    }
   ],
   "source": [
    "features = cat_feats + cont_feats\n",
    "\n",
    "# create new data frame with just the selected features and the target variable\n",
    "df_feat = df[[target_var] + ['saleprice_log'] + features].copy()\n",
    "df_feat.head()"
   ]
  },
  {
   "cell_type": "markdown",
   "metadata": {},
   "source": [
    "### one-hot encoding categorical variables"
   ]
  },
  {
   "cell_type": "code",
   "execution_count": 25,
   "metadata": {},
   "outputs": [
    {
     "data": {
      "text/html": [
       "<div>\n",
       "<style scoped>\n",
       "    .dataframe tbody tr th:only-of-type {\n",
       "        vertical-align: middle;\n",
       "    }\n",
       "\n",
       "    .dataframe tbody tr th {\n",
       "        vertical-align: top;\n",
       "    }\n",
       "\n",
       "    .dataframe thead th {\n",
       "        text-align: right;\n",
       "    }\n",
       "</style>\n",
       "<table border=\"1\" class=\"dataframe\">\n",
       "  <thead>\n",
       "    <tr style=\"text-align: right;\">\n",
       "      <th></th>\n",
       "      <th>saleprice</th>\n",
       "      <th>saleprice_log</th>\n",
       "      <th>overallqual</th>\n",
       "      <th>grlivarea</th>\n",
       "      <th>garagecars</th>\n",
       "      <th>garagearea</th>\n",
       "      <th>totalbsmtsf</th>\n",
       "      <th>firstflrsf</th>\n",
       "      <th>Mortgage_Rate</th>\n",
       "      <th>Mortgage_Points</th>\n",
       "      <th>...</th>\n",
       "      <th>saletype_ConLD</th>\n",
       "      <th>saletype_ConLI</th>\n",
       "      <th>saletype_ConLw</th>\n",
       "      <th>saletype_New</th>\n",
       "      <th>saletype_Oth</th>\n",
       "      <th>saletype_WD</th>\n",
       "      <th>mszoning_FV</th>\n",
       "      <th>mszoning_RH</th>\n",
       "      <th>mszoning_RL</th>\n",
       "      <th>mszoning_RM</th>\n",
       "    </tr>\n",
       "  </thead>\n",
       "  <tbody>\n",
       "    <tr>\n",
       "      <td>0</td>\n",
       "      <td>208500</td>\n",
       "      <td>12.247694</td>\n",
       "      <td>7</td>\n",
       "      <td>1710</td>\n",
       "      <td>2</td>\n",
       "      <td>548</td>\n",
       "      <td>856</td>\n",
       "      <td>856</td>\n",
       "      <td>0.0592</td>\n",
       "      <td>0.5</td>\n",
       "      <td>...</td>\n",
       "      <td>0</td>\n",
       "      <td>0</td>\n",
       "      <td>0</td>\n",
       "      <td>0</td>\n",
       "      <td>0</td>\n",
       "      <td>1</td>\n",
       "      <td>0</td>\n",
       "      <td>0</td>\n",
       "      <td>1</td>\n",
       "      <td>0</td>\n",
       "    </tr>\n",
       "    <tr>\n",
       "      <td>1</td>\n",
       "      <td>181500</td>\n",
       "      <td>12.109011</td>\n",
       "      <td>6</td>\n",
       "      <td>1262</td>\n",
       "      <td>2</td>\n",
       "      <td>460</td>\n",
       "      <td>1262</td>\n",
       "      <td>1262</td>\n",
       "      <td>0.0626</td>\n",
       "      <td>0.4</td>\n",
       "      <td>...</td>\n",
       "      <td>0</td>\n",
       "      <td>0</td>\n",
       "      <td>0</td>\n",
       "      <td>0</td>\n",
       "      <td>0</td>\n",
       "      <td>1</td>\n",
       "      <td>0</td>\n",
       "      <td>0</td>\n",
       "      <td>1</td>\n",
       "      <td>0</td>\n",
       "    </tr>\n",
       "    <tr>\n",
       "      <td>2</td>\n",
       "      <td>223500</td>\n",
       "      <td>12.317167</td>\n",
       "      <td>7</td>\n",
       "      <td>1786</td>\n",
       "      <td>2</td>\n",
       "      <td>608</td>\n",
       "      <td>920</td>\n",
       "      <td>920</td>\n",
       "      <td>0.0604</td>\n",
       "      <td>0.7</td>\n",
       "      <td>...</td>\n",
       "      <td>0</td>\n",
       "      <td>0</td>\n",
       "      <td>0</td>\n",
       "      <td>0</td>\n",
       "      <td>0</td>\n",
       "      <td>1</td>\n",
       "      <td>0</td>\n",
       "      <td>0</td>\n",
       "      <td>1</td>\n",
       "      <td>0</td>\n",
       "    </tr>\n",
       "    <tr>\n",
       "      <td>3</td>\n",
       "      <td>140000</td>\n",
       "      <td>11.849398</td>\n",
       "      <td>7</td>\n",
       "      <td>1717</td>\n",
       "      <td>3</td>\n",
       "      <td>642</td>\n",
       "      <td>756</td>\n",
       "      <td>961</td>\n",
       "      <td>0.0625</td>\n",
       "      <td>0.6</td>\n",
       "      <td>...</td>\n",
       "      <td>0</td>\n",
       "      <td>0</td>\n",
       "      <td>0</td>\n",
       "      <td>0</td>\n",
       "      <td>0</td>\n",
       "      <td>1</td>\n",
       "      <td>0</td>\n",
       "      <td>0</td>\n",
       "      <td>1</td>\n",
       "      <td>0</td>\n",
       "    </tr>\n",
       "    <tr>\n",
       "      <td>4</td>\n",
       "      <td>250000</td>\n",
       "      <td>12.429216</td>\n",
       "      <td>8</td>\n",
       "      <td>2198</td>\n",
       "      <td>3</td>\n",
       "      <td>836</td>\n",
       "      <td>1145</td>\n",
       "      <td>1145</td>\n",
       "      <td>0.0529</td>\n",
       "      <td>0.7</td>\n",
       "      <td>...</td>\n",
       "      <td>0</td>\n",
       "      <td>0</td>\n",
       "      <td>0</td>\n",
       "      <td>0</td>\n",
       "      <td>0</td>\n",
       "      <td>1</td>\n",
       "      <td>0</td>\n",
       "      <td>0</td>\n",
       "      <td>1</td>\n",
       "      <td>0</td>\n",
       "    </tr>\n",
       "  </tbody>\n",
       "</table>\n",
       "<p>5 rows × 95 columns</p>\n",
       "</div>"
      ],
      "text/plain": [
       "   saleprice  saleprice_log  overallqual  grlivarea  garagecars  garagearea  \\\n",
       "0     208500      12.247694            7       1710           2         548   \n",
       "1     181500      12.109011            6       1262           2         460   \n",
       "2     223500      12.317167            7       1786           2         608   \n",
       "3     140000      11.849398            7       1717           3         642   \n",
       "4     250000      12.429216            8       2198           3         836   \n",
       "\n",
       "   totalbsmtsf  firstflrsf  Mortgage_Rate  Mortgage_Points  ...  \\\n",
       "0          856         856         0.0592              0.5  ...   \n",
       "1         1262        1262         0.0626              0.4  ...   \n",
       "2          920         920         0.0604              0.7  ...   \n",
       "3          756         961         0.0625              0.6  ...   \n",
       "4         1145        1145         0.0529              0.7  ...   \n",
       "\n",
       "   saletype_ConLD  saletype_ConLI  saletype_ConLw  saletype_New  saletype_Oth  \\\n",
       "0               0               0               0             0             0   \n",
       "1               0               0               0             0             0   \n",
       "2               0               0               0             0             0   \n",
       "3               0               0               0             0             0   \n",
       "4               0               0               0             0             0   \n",
       "\n",
       "   saletype_WD  mszoning_FV  mszoning_RH  mszoning_RL  mszoning_RM  \n",
       "0            1            0            0            1            0  \n",
       "1            1            0            0            1            0  \n",
       "2            1            0            0            1            0  \n",
       "3            1            0            0            1            0  \n",
       "4            1            0            0            1            0  \n",
       "\n",
       "[5 rows x 95 columns]"
      ]
     },
     "execution_count": 25,
     "metadata": {},
     "output_type": "execute_result"
    }
   ],
   "source": [
    "# generate the one-hot encoding\n",
    "dummies = pd.get_dummies(df_feat[cat_feats], drop_first=True)\n",
    "\n",
    "# add the new columns to the data frame\n",
    "features += dummies.columns.to_list()\n",
    "df_feat = pd.concat([df_feat, dummies], axis=1)\n",
    "\n",
    "# drop the original categorical variables replaced by their one-hot encoded versions\n",
    "df_feat = df_feat.drop(cat_feats, axis=1).copy()\n",
    "\n",
    "# view data frame\n",
    "df_feat.head()"
   ]
  },
  {
   "cell_type": "markdown",
   "metadata": {},
   "source": [
    "## feature trimming"
   ]
  },
  {
   "cell_type": "markdown",
   "metadata": {},
   "source": [
    "### correlation with saleprice only"
   ]
  },
  {
   "cell_type": "code",
   "execution_count": 26,
   "metadata": {
    "scrolled": false
   },
   "outputs": [
    {
     "data": {
      "text/html": [
       "<div>\n",
       "<style scoped>\n",
       "    .dataframe tbody tr th:only-of-type {\n",
       "        vertical-align: middle;\n",
       "    }\n",
       "\n",
       "    .dataframe tbody tr th {\n",
       "        vertical-align: top;\n",
       "    }\n",
       "\n",
       "    .dataframe thead th {\n",
       "        text-align: right;\n",
       "    }\n",
       "</style>\n",
       "<table border=\"1\" class=\"dataframe\">\n",
       "  <thead>\n",
       "    <tr style=\"text-align: right;\">\n",
       "      <th></th>\n",
       "      <th>0</th>\n",
       "    </tr>\n",
       "  </thead>\n",
       "  <tbody>\n",
       "    <tr>\n",
       "      <td>saleprice</td>\n",
       "      <td>1.000000</td>\n",
       "    </tr>\n",
       "    <tr>\n",
       "      <td>saleprice_log</td>\n",
       "      <td>0.948374</td>\n",
       "    </tr>\n",
       "    <tr>\n",
       "      <td>overallqual</td>\n",
       "      <td>0.790982</td>\n",
       "    </tr>\n",
       "    <tr>\n",
       "      <td>grlivarea</td>\n",
       "      <td>0.708624</td>\n",
       "    </tr>\n",
       "    <tr>\n",
       "      <td>garagecars</td>\n",
       "      <td>0.640409</td>\n",
       "    </tr>\n",
       "    <tr>\n",
       "      <td>garagearea</td>\n",
       "      <td>0.623431</td>\n",
       "    </tr>\n",
       "    <tr>\n",
       "      <td>totalbsmtsf</td>\n",
       "      <td>0.613581</td>\n",
       "    </tr>\n",
       "    <tr>\n",
       "      <td>firstflrsf</td>\n",
       "      <td>0.605852</td>\n",
       "    </tr>\n",
       "    <tr>\n",
       "      <td>foundation_PConc</td>\n",
       "      <td>0.497734</td>\n",
       "    </tr>\n",
       "    <tr>\n",
       "      <td>exterqual_Gd</td>\n",
       "      <td>0.452466</td>\n",
       "    </tr>\n",
       "    <tr>\n",
       "      <td>neighborhood_NridgHt</td>\n",
       "      <td>0.402149</td>\n",
       "    </tr>\n",
       "    <tr>\n",
       "      <td>saletype_New</td>\n",
       "      <td>0.357509</td>\n",
       "    </tr>\n",
       "    <tr>\n",
       "      <td>salecondition_Partial</td>\n",
       "      <td>0.352060</td>\n",
       "    </tr>\n",
       "    <tr>\n",
       "      <td>neighborhood_NoRidge</td>\n",
       "      <td>0.330424</td>\n",
       "    </tr>\n",
       "    <tr>\n",
       "      <td>kitchenqual_Gd</td>\n",
       "      <td>0.321641</td>\n",
       "    </tr>\n",
       "    <tr>\n",
       "      <td>exterior2nd_VinylSd</td>\n",
       "      <td>0.306389</td>\n",
       "    </tr>\n",
       "    <tr>\n",
       "      <td>exterior1st_VinylSd</td>\n",
       "      <td>0.305009</td>\n",
       "    </tr>\n",
       "    <tr>\n",
       "      <td>mszoning_RL</td>\n",
       "      <td>0.245063</td>\n",
       "    </tr>\n",
       "    <tr>\n",
       "      <td>neighborhood_StoneBr</td>\n",
       "      <td>0.215363</td>\n",
       "    </tr>\n",
       "    <tr>\n",
       "      <td>neighborhood_Somerst</td>\n",
       "      <td>0.140058</td>\n",
       "    </tr>\n",
       "  </tbody>\n",
       "</table>\n",
       "</div>"
      ],
      "text/plain": [
       "                              0\n",
       "saleprice              1.000000\n",
       "saleprice_log          0.948374\n",
       "overallqual            0.790982\n",
       "grlivarea              0.708624\n",
       "garagecars             0.640409\n",
       "garagearea             0.623431\n",
       "totalbsmtsf            0.613581\n",
       "firstflrsf             0.605852\n",
       "foundation_PConc       0.497734\n",
       "exterqual_Gd           0.452466\n",
       "neighborhood_NridgHt   0.402149\n",
       "saletype_New           0.357509\n",
       "salecondition_Partial  0.352060\n",
       "neighborhood_NoRidge   0.330424\n",
       "kitchenqual_Gd         0.321641\n",
       "exterior2nd_VinylSd    0.306389\n",
       "exterior1st_VinylSd    0.305009\n",
       "mszoning_RL            0.245063\n",
       "neighborhood_StoneBr   0.215363\n",
       "neighborhood_Somerst   0.140058"
      ]
     },
     "execution_count": 26,
     "metadata": {},
     "output_type": "execute_result"
    }
   ],
   "source": [
    "pd.DataFrame(df_feat.corrwith(df_feat.saleprice).sort_values(ascending=False)).head(20)"
   ]
  },
  {
   "cell_type": "markdown",
   "metadata": {},
   "source": [
    "##### For the model, we will keep the top 9 variables (exluding saleprice and saleprice_log) from the above sorted result as features."
   ]
  },
  {
   "cell_type": "code",
   "execution_count": 27,
   "metadata": {},
   "outputs": [
    {
     "data": {
      "text/plain": [
       "['overallqual',\n",
       " 'grlivarea',\n",
       " 'garagecars',\n",
       " 'garagearea',\n",
       " 'totalbsmtsf',\n",
       " 'firstflrsf',\n",
       " 'foundation_PConc',\n",
       " 'exterqual_Gd',\n",
       " 'neighborhood_NridgHt',\n",
       " 'Mortgage_Rate',\n",
       " 'Mortgage_Points']"
      ]
     },
     "execution_count": 27,
     "metadata": {},
     "output_type": "execute_result"
    }
   ],
   "source": [
    "model_feats = list(df_feat.corrwith(df.saleprice).sort_values(ascending=False).reset_index()['index'].values)[2:11]\n",
    "model_feats.append('Mortgage_Rate')\n",
    "model_feats.append('Mortgage_Points')\n",
    "model_feats"
   ]
  },
  {
   "cell_type": "code",
   "execution_count": 28,
   "metadata": {},
   "outputs": [
    {
     "data": {
      "text/html": [
       "<div>\n",
       "<style scoped>\n",
       "    .dataframe tbody tr th:only-of-type {\n",
       "        vertical-align: middle;\n",
       "    }\n",
       "\n",
       "    .dataframe tbody tr th {\n",
       "        vertical-align: top;\n",
       "    }\n",
       "\n",
       "    .dataframe thead th {\n",
       "        text-align: right;\n",
       "    }\n",
       "</style>\n",
       "<table border=\"1\" class=\"dataframe\">\n",
       "  <thead>\n",
       "    <tr style=\"text-align: right;\">\n",
       "      <th></th>\n",
       "      <th>saleprice</th>\n",
       "      <th>saleprice_log</th>\n",
       "      <th>overallqual</th>\n",
       "      <th>grlivarea</th>\n",
       "      <th>garagecars</th>\n",
       "      <th>garagearea</th>\n",
       "      <th>totalbsmtsf</th>\n",
       "      <th>firstflrsf</th>\n",
       "      <th>foundation_PConc</th>\n",
       "      <th>exterqual_Gd</th>\n",
       "      <th>neighborhood_NridgHt</th>\n",
       "      <th>Mortgage_Rate</th>\n",
       "      <th>Mortgage_Points</th>\n",
       "    </tr>\n",
       "  </thead>\n",
       "  <tbody>\n",
       "    <tr>\n",
       "      <td>0</td>\n",
       "      <td>208500</td>\n",
       "      <td>12.247694</td>\n",
       "      <td>7</td>\n",
       "      <td>1710</td>\n",
       "      <td>2</td>\n",
       "      <td>548</td>\n",
       "      <td>856</td>\n",
       "      <td>856</td>\n",
       "      <td>1</td>\n",
       "      <td>1</td>\n",
       "      <td>0</td>\n",
       "      <td>0.0592</td>\n",
       "      <td>0.5</td>\n",
       "    </tr>\n",
       "    <tr>\n",
       "      <td>1</td>\n",
       "      <td>181500</td>\n",
       "      <td>12.109011</td>\n",
       "      <td>6</td>\n",
       "      <td>1262</td>\n",
       "      <td>2</td>\n",
       "      <td>460</td>\n",
       "      <td>1262</td>\n",
       "      <td>1262</td>\n",
       "      <td>0</td>\n",
       "      <td>0</td>\n",
       "      <td>0</td>\n",
       "      <td>0.0626</td>\n",
       "      <td>0.4</td>\n",
       "    </tr>\n",
       "    <tr>\n",
       "      <td>2</td>\n",
       "      <td>223500</td>\n",
       "      <td>12.317167</td>\n",
       "      <td>7</td>\n",
       "      <td>1786</td>\n",
       "      <td>2</td>\n",
       "      <td>608</td>\n",
       "      <td>920</td>\n",
       "      <td>920</td>\n",
       "      <td>1</td>\n",
       "      <td>1</td>\n",
       "      <td>0</td>\n",
       "      <td>0.0604</td>\n",
       "      <td>0.7</td>\n",
       "    </tr>\n",
       "    <tr>\n",
       "      <td>3</td>\n",
       "      <td>140000</td>\n",
       "      <td>11.849398</td>\n",
       "      <td>7</td>\n",
       "      <td>1717</td>\n",
       "      <td>3</td>\n",
       "      <td>642</td>\n",
       "      <td>756</td>\n",
       "      <td>961</td>\n",
       "      <td>0</td>\n",
       "      <td>0</td>\n",
       "      <td>0</td>\n",
       "      <td>0.0625</td>\n",
       "      <td>0.6</td>\n",
       "    </tr>\n",
       "    <tr>\n",
       "      <td>4</td>\n",
       "      <td>250000</td>\n",
       "      <td>12.429216</td>\n",
       "      <td>8</td>\n",
       "      <td>2198</td>\n",
       "      <td>3</td>\n",
       "      <td>836</td>\n",
       "      <td>1145</td>\n",
       "      <td>1145</td>\n",
       "      <td>1</td>\n",
       "      <td>1</td>\n",
       "      <td>0</td>\n",
       "      <td>0.0529</td>\n",
       "      <td>0.7</td>\n",
       "    </tr>\n",
       "  </tbody>\n",
       "</table>\n",
       "</div>"
      ],
      "text/plain": [
       "   saleprice  saleprice_log  overallqual  grlivarea  garagecars  garagearea  \\\n",
       "0     208500      12.247694            7       1710           2         548   \n",
       "1     181500      12.109011            6       1262           2         460   \n",
       "2     223500      12.317167            7       1786           2         608   \n",
       "3     140000      11.849398            7       1717           3         642   \n",
       "4     250000      12.429216            8       2198           3         836   \n",
       "\n",
       "   totalbsmtsf  firstflrsf  foundation_PConc  exterqual_Gd  \\\n",
       "0          856         856                 1             1   \n",
       "1         1262        1262                 0             0   \n",
       "2          920         920                 1             1   \n",
       "3          756         961                 0             0   \n",
       "4         1145        1145                 1             1   \n",
       "\n",
       "   neighborhood_NridgHt  Mortgage_Rate  Mortgage_Points  \n",
       "0                     0         0.0592              0.5  \n",
       "1                     0         0.0626              0.4  \n",
       "2                     0         0.0604              0.7  \n",
       "3                     0         0.0625              0.6  \n",
       "4                     0         0.0529              0.7  "
      ]
     },
     "execution_count": 28,
     "metadata": {},
     "output_type": "execute_result"
    }
   ],
   "source": [
    "df_model = df_feat[[target_var] + ['saleprice_log'] + model_feats].copy()\n",
    "df_model.head()"
   ]
  },
  {
   "cell_type": "markdown",
   "metadata": {},
   "source": [
    "### drop features that highly correlate with other features"
   ]
  },
  {
   "cell_type": "code",
   "execution_count": 29,
   "metadata": {},
   "outputs": [
    {
     "data": {
      "image/png": "[encoded data removed]",
      "text/plain": [
       "<Figure size 576x576 with 2 Axes>"
      ]
     },
     "metadata": {},
     "output_type": "display_data"
    }
   ],
   "source": [
    "# set figure size\n",
    "plt.rcParams['figure.figsize'] = (8,8)\n",
    "\n",
    "# plot heatmap\n",
    "sns.heatmap(df_model.drop(['saleprice','saleprice_log'], axis=1).corr(), square=True, linewidth=0.5, annot=True)\n",
    "\n",
    "plt.show()"
   ]
  },
  {
   "cell_type": "code",
   "execution_count": 30,
   "metadata": {},
   "outputs": [
    {
     "data": {
      "text/plain": [
       "Index(['saleprice', 'saleprice_log', 'overallqual', 'grlivarea', 'garagecars',\n",
       "       'totalbsmtsf', 'foundation_PConc', 'exterqual_Gd',\n",
       "       'neighborhood_NridgHt', 'Mortgage_Rate', 'Mortgage_Points'],\n",
       "      dtype='object')"
      ]
     },
     "execution_count": 30,
     "metadata": {},
     "output_type": "execute_result"
    }
   ],
   "source": [
    "# removing garagearea as it correlates well with garagecars, which correlates better with saleprice\n",
    "model_feats.remove('garagearea')\n",
    "# removing firstflrsf as it correlates well with totalbsmtsf, which correlates better with saleprice\n",
    "model_feats.remove('firstflrsf')\n",
    "\n",
    "df_model = df_model.drop(['garagearea','firstflrsf'], axis=1).copy()\n",
    "df_model.columns"
   ]
  },
  {
   "cell_type": "markdown",
   "metadata": {},
   "source": [
    "# REGRESSION\n",
    "---"
   ]
  },
  {
   "cell_type": "markdown",
   "metadata": {},
   "source": [
    "## define wrapper functions"
   ]
  },
  {
   "cell_type": "code",
   "execution_count": 31,
   "metadata": {},
   "outputs": [],
   "source": [
    "def run_statsmodels_linreg(X, Y, print_summary=False):\n",
    "    '''\n",
    "    Executes statsmodels linear regression\n",
    "    Inputs: X, Y\n",
    "        X: explanatory variables\n",
    "        Y: target variable\n",
    "        print_summary: True, or False (default)\n",
    "    '''   \n",
    "    # train_test_split\n",
    "    X_train, X_test, y_train, y_test = train_test_split(X, Y, test_size = 0.2, random_state = 465)\n",
    "    print('-----Split Breakdown-----')\n",
    "    print(f'Train: {X_train.shape[0]}')\n",
    "    print(f'Test: {X_test.shape[0]}')\n",
    "    \n",
    "    # add constant\n",
    "    X_train = sm.add_constant(X_train)\n",
    "\n",
    "    # run statsmodels OLS\n",
    "    results = sm.OLS(y_train, X_train).fit()\n",
    "\n",
    "    if print_summary:\n",
    "        # print summary results\n",
    "        print(results.summary())\n",
    "    \n",
    "    # return pvalues\n",
    "    return results.pvalues\n",
    "\n",
    "def run_sklearn_linreg(X, Y, regression_type='OLS', print_summary=False):\n",
    "    '''\n",
    "    Executes sklearn linear regression\n",
    "    Inputs: x, y, regression_type, print_summary\n",
    "        x: explanatory variables\n",
    "        y: target variable\n",
    "        regression_type: 'OLS' (default), 'Ridge', 'Lasso', or, 'ElasticNet'\n",
    "        print_summary: True, or False (default)\n",
    "    '''\n",
    "    # train_test_split\n",
    "    X_train, X_test, y_train, y_test = train_test_split(X, Y, test_size = 0.2, random_state = 465)\n",
    "    \n",
    "    # run sklearn regression\n",
    "    if regression_type == 'OLS':\n",
    "        regression = LinearRegression()\n",
    "    elif regression_type == 'Ridge':\n",
    "        regression = RidgeCV(alphas=alphas, cv=5)\n",
    "    elif regression_type == 'Lasso':\n",
    "        regression = LassoCV(alphas=alphas, cv=5)\n",
    "    elif regression_type == 'ElasticNet':\n",
    "        regression = ElasticNetCV(alphas=alphas, cv=5)\n",
    "    \n",
    "    regression.fit(X_train, y_train)\n",
    "    \n",
    "    # predictions\n",
    "    y_preds_train = regression.predict(X_train)\n",
    "    y_preds_test = regression.predict(X_test)\n",
    "\n",
    "    # return variables\n",
    "    rsq_train = regression.score(X_train, y_train)\n",
    "    rsq_test = regression.score(X_test, y_test)\n",
    "    \n",
    "    if print_summary:\n",
    "        # print summary results\n",
    "        print(f'{regression_type.upper()}')\n",
    "        \n",
    "        print('-----Split Breakdown-----')\n",
    "        print(f'Train: {X_train.shape[0]}')\n",
    "        print(f'Test: {X_test.shape[0]}')\n",
    "        \n",
    "        if regression_type != 'OLS':\n",
    "            print(f'Best alpha: {regression.alpha_}')\n",
    "        \n",
    "        print('-----Model Score-----')\n",
    "        print(f'Train R-Squared: {rsq_train:.4f}')\n",
    "        print(f'Test R-Squared: {rsq_test:.4f}')\n",
    "        print(f'Train-Test: {rsq_train-rsq_test:.4f}')\n",
    "        \n",
    "        print('-----Prediction statistics-----')\n",
    "        # Prediction mean absolute error\n",
    "        print(f'MAE: {mean_absolute_error(y_test, y_preds_test):.4f}')\n",
    "        # Prediction mean squared error\n",
    "        print(f'MSE: {mse(y_test, y_preds_test):.4f}')\n",
    "        # Prediction root mean squared error\n",
    "        print(f'RMSE: {rmse(y_test, y_preds_test):.4f}')\n",
    "        # Prediction mean absolute percentage error\n",
    "        print(f'MAPE: {np.mean(np.abs((y_test - y_preds_test) / y_test)) * 100:.4f}%')\n",
    "        print('')\n",
    "    \n",
    "    return rsq_train, rsq_test"
   ]
  },
  {
   "cell_type": "markdown",
   "metadata": {},
   "source": [
    "## OLS"
   ]
  },
  {
   "cell_type": "code",
   "execution_count": 32,
   "metadata": {},
   "outputs": [
    {
     "name": "stdout",
     "output_type": "stream",
     "text": [
      "OLS\n",
      "-----Split Breakdown-----\n",
      "Train: 1168\n",
      "Test: 292\n",
      "-----Model Score-----\n",
      "Train R-Squared: 0.7707\n",
      "Test R-Squared: 0.7807\n",
      "Train-Test: -0.0101\n",
      "-----Prediction statistics-----\n",
      "MAE: 24613.7411\n",
      "MSE: 1472018143.1187\n",
      "RMSE: 38366.8886\n",
      "MAPE: 15.0607%\n",
      "\n",
      "---\n",
      "-----Split Breakdown-----\n",
      "Train: 1168\n",
      "Test: 292\n",
      "                            OLS Regression Results                            \n",
      "==============================================================================\n",
      "Dep. Variable:              saleprice   R-squared:                       0.771\n",
      "Model:                            OLS   Adj. R-squared:                  0.769\n",
      "Method:                 Least Squares   F-statistic:                     432.3\n",
      "Date:                Wed, 05 Feb 2020   Prob (F-statistic):               0.00\n",
      "Time:                        16:13:32   Log-Likelihood:                -13966.\n",
      "No. Observations:                1168   AIC:                         2.795e+04\n",
      "Df Residuals:                    1158   BIC:                         2.800e+04\n",
      "Df Model:                           9                                         \n",
      "Covariance Type:            nonrobust                                         \n",
      "========================================================================================\n",
      "                           coef    std err          t      P>|t|      [0.025      0.975]\n",
      "----------------------------------------------------------------------------------------\n",
      "const                -8.815e+04    2.1e+04     -4.194      0.000   -1.29e+05   -4.69e+04\n",
      "overallqual           2.077e+04   1368.434     15.177      0.000    1.81e+04    2.35e+04\n",
      "grlivarea               46.0174      2.726     16.882      0.000      40.669      51.366\n",
      "garagecars            1.764e+04   1975.230      8.930      0.000    1.38e+04    2.15e+04\n",
      "totalbsmtsf             25.7683      3.025      8.517      0.000      19.832      31.704\n",
      "foundation_PConc      7743.7687   3029.558      2.556      0.011    1799.731    1.37e+04\n",
      "exterqual_Gd           693.0884   3094.699      0.224      0.823   -5378.756    6764.932\n",
      "neighborhood_NridgHt  3.763e+04   5267.864      7.142      0.000    2.73e+04     4.8e+04\n",
      "Mortgage_Rate         9.539e+04   2.38e+05      0.400      0.689   -3.72e+05    5.63e+05\n",
      "Mortgage_Points       4291.3890    1.3e+04      0.329      0.742   -2.13e+04    2.99e+04\n",
      "==============================================================================\n",
      "Omnibus:                      349.697   Durbin-Watson:                   1.902\n",
      "Prob(Omnibus):                  0.000   Jarque-Bera (JB):            27999.663\n",
      "Skew:                          -0.372   Prob(JB):                         0.00\n",
      "Kurtosis:                      26.975   Cond. No.                     4.20e+05\n",
      "==============================================================================\n",
      "\n",
      "Warnings:\n",
      "[1] Standard Errors assume that the covariance matrix of the errors is correctly specified.\n",
      "[2] The condition number is large, 4.2e+05. This might indicate that there are\n",
      "strong multicollinearity or other numerical problems.\n"
     ]
    },
    {
     "data": {
      "text/plain": [
       "const                   2.955190e-05\n",
       "overallqual             1.382370e-47\n",
       "grlivarea               2.482809e-57\n",
       "garagecars              1.635203e-18\n",
       "totalbsmtsf             5.009033e-17\n",
       "foundation_PConc        1.071290e-02\n",
       "exterqual_Gd            8.228280e-01\n",
       "neighborhood_NridgHt    1.617194e-12\n",
       "Mortgage_Rate           6.889373e-01\n",
       "Mortgage_Points         7.420248e-01\n",
       "dtype: float64"
      ]
     },
     "execution_count": 32,
     "metadata": {},
     "output_type": "execute_result"
    }
   ],
   "source": [
    "run_sklearn_linreg(df_model[model_feats], df_model[target_var], 'OLS', True)\n",
    "print('---')\n",
    "run_statsmodels_linreg(df_model[model_feats], df_model[target_var], True)"
   ]
  },
  {
   "cell_type": "markdown",
   "metadata": {},
   "source": [
    "##### There are features that are not significant. Let's drop those and redo the regression."
   ]
  },
  {
   "cell_type": "code",
   "execution_count": 33,
   "metadata": {},
   "outputs": [
    {
     "data": {
      "text/plain": [
       "Index(['saleprice', 'saleprice_log', 'overallqual', 'grlivarea', 'garagecars',\n",
       "       'totalbsmtsf', 'foundation_PConc', 'neighborhood_NridgHt',\n",
       "       'Mortgage_Rate', 'Mortgage_Points'],\n",
       "      dtype='object')"
      ]
     },
     "execution_count": 33,
     "metadata": {},
     "output_type": "execute_result"
    }
   ],
   "source": [
    "model_feats.remove('exterqual_Gd')\n",
    "\n",
    "df_model = df_model[[target_var] + ['saleprice_log'] + model_feats].copy()\n",
    "df_model.columns"
   ]
  },
  {
   "cell_type": "code",
   "execution_count": 34,
   "metadata": {},
   "outputs": [
    {
     "name": "stdout",
     "output_type": "stream",
     "text": [
      "OLS\n",
      "-----Split Breakdown-----\n",
      "Train: 1168\n",
      "Test: 292\n",
      "-----Model Score-----\n",
      "Train R-Squared: 0.7706\n",
      "Test R-Squared: 0.7807\n",
      "Train-Test: -0.0101\n",
      "-----Prediction statistics-----\n",
      "MAE: 24627.6525\n",
      "MSE: 1472376519.0905\n",
      "RMSE: 38371.5587\n",
      "MAPE: 15.0785%\n",
      "\n",
      "-----Split Breakdown-----\n",
      "Train: 1168\n",
      "Test: 292\n",
      "                            OLS Regression Results                            \n",
      "==============================================================================\n",
      "Dep. Variable:              saleprice   R-squared:                       0.771\n",
      "Model:                            OLS   Adj. R-squared:                  0.769\n",
      "Method:                 Least Squares   F-statistic:                     486.8\n",
      "Date:                Wed, 05 Feb 2020   Prob (F-statistic):               0.00\n",
      "Time:                        16:13:33   Log-Likelihood:                -13966.\n",
      "No. Observations:                1168   AIC:                         2.795e+04\n",
      "Df Residuals:                    1159   BIC:                         2.799e+04\n",
      "Df Model:                           8                                         \n",
      "Covariance Type:            nonrobust                                         \n",
      "========================================================================================\n",
      "                           coef    std err          t      P>|t|      [0.025      0.975]\n",
      "----------------------------------------------------------------------------------------\n",
      "const                -8.855e+04   2.09e+04     -4.230      0.000    -1.3e+05   -4.75e+04\n",
      "overallqual           2.084e+04   1333.091     15.631      0.000    1.82e+04    2.35e+04\n",
      "grlivarea               46.0051      2.724     16.887      0.000      40.660      51.350\n",
      "garagecars            1.769e+04   1962.657      9.012      0.000    1.38e+04    2.15e+04\n",
      "totalbsmtsf             25.7662      3.024      8.520      0.000      19.833      31.700\n",
      "foundation_PConc      8001.3494   2801.608      2.856      0.004    2504.558    1.35e+04\n",
      "neighborhood_NridgHt  3.751e+04   5241.946      7.156      0.000    2.72e+04    4.78e+04\n",
      "Mortgage_Rate         9.567e+04   2.38e+05      0.402      0.688   -3.72e+05    5.63e+05\n",
      "Mortgage_Points       4329.6226    1.3e+04      0.332      0.740   -2.12e+04    2.99e+04\n",
      "==============================================================================\n",
      "Omnibus:                      351.818   Durbin-Watson:                   1.902\n",
      "Prob(Omnibus):                  0.000   Jarque-Bera (JB):            28127.697\n",
      "Skew:                          -0.387   Prob(JB):                         0.00\n",
      "Kurtosis:                      27.028   Cond. No.                     4.20e+05\n",
      "==============================================================================\n",
      "\n",
      "Warnings:\n",
      "[1] Standard Errors assume that the covariance matrix of the errors is correctly specified.\n",
      "[2] The condition number is large, 4.2e+05. This might indicate that there are\n",
      "strong multicollinearity or other numerical problems.\n"
     ]
    },
    {
     "data": {
      "text/plain": [
       "const                   2.523003e-05\n",
       "overallqual             4.039844e-50\n",
       "grlivarea               2.267871e-57\n",
       "garagecars              8.157716e-19\n",
       "totalbsmtsf             4.890557e-17\n",
       "foundation_PConc        4.366923e-03\n",
       "neighborhood_NridgHt    1.466447e-12\n",
       "Mortgage_Rate           6.879309e-01\n",
       "Mortgage_Points         7.396850e-01\n",
       "dtype: float64"
      ]
     },
     "execution_count": 34,
     "metadata": {},
     "output_type": "execute_result"
    }
   ],
   "source": [
    "run_sklearn_linreg(df_model[model_feats], df_model[target_var], 'OLS', True)\n",
    "run_statsmodels_linreg(df_model[model_feats], df_model[target_var], True)"
   ]
  },
  {
   "cell_type": "markdown",
   "metadata": {},
   "source": [
    "##### The R-squared for Train (77%) and Test (78%) sets indicating no overfitting; however\n",
    " - There is ~22-23% of the target's variance that remains unexplained, so there is room for improvement"
   ]
  },
  {
   "cell_type": "markdown",
   "metadata": {},
   "source": [
    "# MODEL IMPROVEMENT I\n",
    "---"
   ]
  },
  {
   "cell_type": "markdown",
   "metadata": {},
   "source": [
    "## add new variables"
   ]
  },
  {
   "cell_type": "code",
   "execution_count": 35,
   "metadata": {},
   "outputs": [
    {
     "data": {
      "text/plain": [
       "Index(['saleprice', 'saleprice_log', 'overallqual', 'grlivarea', 'garagecars',\n",
       "       'foundation_PConc', 'neighborhood_NridgHt', 'Mortgage_Rate',\n",
       "       'Mortgage_Points', 'totalsf'],\n",
       "      dtype='object')"
      ]
     },
     "execution_count": 35,
     "metadata": {},
     "output_type": "execute_result"
    }
   ],
   "source": [
    "# add new variable: total square footage consisting of first & second floor & basement square footages\n",
    "df_model['totalsf'] = df.firstflrsf + df.secondflrsf + df.totalbsmtsf\n",
    "model_feats.append('totalsf')\n",
    "\n",
    "# remove totalbsmtsf\n",
    "df_model = df_model.drop('totalbsmtsf', axis=1).copy()\n",
    "model_feats.remove('totalbsmtsf')\n",
    "\n",
    "# sanity check\n",
    "df_model.columns"
   ]
  },
  {
   "cell_type": "markdown",
   "metadata": {},
   "source": [
    "## add interaction"
   ]
  },
  {
   "cell_type": "code",
   "execution_count": 36,
   "metadata": {},
   "outputs": [
    {
     "data": {
      "text/plain": [
       "Index(['saleprice', 'saleprice_log', 'overallqual', 'grlivarea', 'garagecars',\n",
       "       'foundation_PConc', 'neighborhood_NridgHt', 'Mortgage_Rate',\n",
       "       'Mortgage_Points', 'totalsf', 'int_overallqual_totalsf'],\n",
       "      dtype='object')"
      ]
     },
     "execution_count": 36,
     "metadata": {},
     "output_type": "execute_result"
    }
   ],
   "source": [
    "# add interaction between overallqual and totalsf to data frame\n",
    "df_model['int_overallqual_totalsf'] = df_model.overallqual * df_model.totalsf\n",
    "model_feats.append('int_overallqual_totalsf')\n",
    "\n",
    "# sanity check\n",
    "df_model.columns"
   ]
  },
  {
   "cell_type": "markdown",
   "metadata": {},
   "source": [
    "## OLS"
   ]
  },
  {
   "cell_type": "code",
   "execution_count": 37,
   "metadata": {},
   "outputs": [
    {
     "name": "stdout",
     "output_type": "stream",
     "text": [
      "OLS\n",
      "-----Split Breakdown-----\n",
      "Train: 1168\n",
      "Test: 292\n",
      "-----Model Score-----\n",
      "Train R-Squared: 0.8113\n",
      "Test R-Squared: 0.8108\n",
      "Train-Test: 0.0005\n",
      "-----Prediction statistics-----\n",
      "MAE: 0.1280\n",
      "MSE: 0.0315\n",
      "RMSE: 0.1776\n",
      "MAPE: 1.0709%\n",
      "\n",
      "---\n",
      "-----Split Breakdown-----\n",
      "Train: 1168\n",
      "Test: 292\n",
      "                            OLS Regression Results                            \n",
      "==============================================================================\n",
      "Dep. Variable:          saleprice_log   R-squared:                       0.811\n",
      "Model:                            OLS   Adj. R-squared:                  0.810\n",
      "Method:                 Least Squares   F-statistic:                     553.3\n",
      "Date:                Wed, 05 Feb 2020   Prob (F-statistic):               0.00\n",
      "Time:                        16:13:33   Log-Likelihood:                 395.78\n",
      "No. Observations:                1168   AIC:                            -771.6\n",
      "Df Residuals:                    1158   BIC:                            -720.9\n",
      "Df Model:                           9                                         \n",
      "Covariance Type:            nonrobust                                         \n",
      "===========================================================================================\n",
      "                              coef    std err          t      P>|t|      [0.025      0.975]\n",
      "-------------------------------------------------------------------------------------------\n",
      "const                      10.0492      0.106     94.374      0.000       9.840      10.258\n",
      "overallqual                 0.1922      0.010     19.593      0.000       0.173       0.212\n",
      "grlivarea                7.241e-05   1.99e-05      3.645      0.000    3.34e-05       0.000\n",
      "garagecars                  0.1036      0.009     11.483      0.000       0.086       0.121\n",
      "foundation_PConc            0.0554      0.013      4.323      0.000       0.030       0.081\n",
      "neighborhood_NridgHt        0.1040      0.024      4.297      0.000       0.057       0.152\n",
      "Mortgage_Rate               0.9892      1.091      0.907      0.365      -1.152       3.130\n",
      "Mortgage_Points             0.0298      0.060      0.499      0.618      -0.087       0.147\n",
      "totalsf                     0.0004   2.69e-05     13.315      0.000       0.000       0.000\n",
      "int_overallqual_totalsf -3.139e-05   3.15e-06     -9.964      0.000   -3.76e-05   -2.52e-05\n",
      "==============================================================================\n",
      "Omnibus:                      313.697   Durbin-Watson:                   1.865\n",
      "Prob(Omnibus):                  0.000   Jarque-Bera (JB):             1512.007\n",
      "Skew:                          -1.169   Prob(JB):                         0.00\n",
      "Kurtosis:                       8.060   Cond. No.                     4.07e+06\n",
      "==============================================================================\n",
      "\n",
      "Warnings:\n",
      "[1] Standard Errors assume that the covariance matrix of the errors is correctly specified.\n",
      "[2] The condition number is large, 4.07e+06. This might indicate that there are\n",
      "strong multicollinearity or other numerical problems.\n"
     ]
    },
    {
     "data": {
      "text/plain": [
       "const                      0.000000e+00\n",
       "overallqual                4.750200e-74\n",
       "grlivarea                  2.789683e-04\n",
       "garagecars                 5.540422e-29\n",
       "foundation_PConc           1.670083e-05\n",
       "neighborhood_NridgHt       1.879606e-05\n",
       "Mortgage_Rate              3.648089e-01\n",
       "Mortgage_Points            6.182232e-01\n",
       "totalsf                    9.719587e-38\n",
       "int_overallqual_totalsf    1.711802e-22\n",
       "dtype: float64"
      ]
     },
     "execution_count": 37,
     "metadata": {},
     "output_type": "execute_result"
    }
   ],
   "source": [
    "run_sklearn_linreg(df_model[model_feats], df_model['saleprice_log'], 'OLS', True)\n",
    "print('---')\n",
    "run_statsmodels_linreg(df_model[model_feats], df_model['saleprice_log'], True)"
   ]
  },
  {
   "cell_type": "markdown",
   "metadata": {},
   "source": [
    "##### We improved the model slightly by switching the target variable to saleprice_log and adding totalsf and the interaction between totalsf and overallqual\n",
    " - There is still 19-20% of the variance unexplaind by the features we have chosen.\n",
    " - Let's take another look at the categorical variables."
   ]
  },
  {
   "cell_type": "markdown",
   "metadata": {},
   "source": [
    "# MODEL IMPROVEMENT II\n",
    "---"
   ]
  },
  {
   "cell_type": "markdown",
   "metadata": {},
   "source": [
    "### back up model data frame for debug purposes"
   ]
  },
  {
   "cell_type": "code",
   "execution_count": 38,
   "metadata": {},
   "outputs": [],
   "source": [
    "df_model_bkup = df_model.copy()"
   ]
  },
  {
   "cell_type": "markdown",
   "metadata": {},
   "source": [
    "## find new categorical variables to add"
   ]
  },
  {
   "cell_type": "markdown",
   "metadata": {},
   "source": [
    "### define function\n",
    " - function adds each categorical variable to the model and calculates train & test R-squared values\n",
    " - function produces a sorted daframe showing the train & test scores for each categorical variable added to the model"
   ]
  },
  {
   "cell_type": "code",
   "execution_count": 39,
   "metadata": {
    "scrolled": false
   },
   "outputs": [],
   "source": [
    "def find_new_cat_feats(df_in):\n",
    "    potential_features = []\n",
    "    for cat_var in cat_vars:\n",
    "        cat_var = [cat_var]\n",
    "        if cat_var[0] not in df_in.columns:\n",
    "\n",
    "            df_temp = df_in.copy()\n",
    "            \n",
    "            # generate the one-hot encoding\n",
    "            dummies = pd.get_dummies(df[cat_var], drop_first=True)\n",
    "\n",
    "            # add dummy variables to data frame\n",
    "            df_temp = pd.concat([df_temp, dummies], axis=1)\n",
    "            \n",
    "\n",
    "            rsq_train, rsq_test = run_sklearn_linreg(df_temp.drop(['saleprice', 'saleprice_log'], axis=1), df_temp['saleprice_log'], 'OLS', False)\n",
    "            \n",
    "            potential_features.append([cat_var[0], rsq_train, rsq_test])\n",
    "            \n",
    "    df_potential_features = pd.DataFrame(potential_features, columns=['variable','train_score','test_score'])\n",
    "    df_potential_features['train_test_diff'] = df_potential_features.train_score - df_potential_features.test_score\n",
    "    \n",
    "    return df_potential_features.sort_values(by=['test_score'],ascending=False)"
   ]
  },
  {
   "cell_type": "markdown",
   "metadata": {},
   "source": [
    "### execute function to score each categorical variable"
   ]
  },
  {
   "cell_type": "code",
   "execution_count": 40,
   "metadata": {
    "scrolled": false
   },
   "outputs": [
    {
     "data": {
      "text/html": [
       "<div>\n",
       "<style scoped>\n",
       "    .dataframe tbody tr th:only-of-type {\n",
       "        vertical-align: middle;\n",
       "    }\n",
       "\n",
       "    .dataframe tbody tr th {\n",
       "        vertical-align: top;\n",
       "    }\n",
       "\n",
       "    .dataframe thead th {\n",
       "        text-align: right;\n",
       "    }\n",
       "</style>\n",
       "<table border=\"1\" class=\"dataframe\">\n",
       "  <thead>\n",
       "    <tr style=\"text-align: right;\">\n",
       "      <th></th>\n",
       "      <th>index</th>\n",
       "      <th>variable</th>\n",
       "      <th>train_score</th>\n",
       "      <th>test_score</th>\n",
       "      <th>train_test_diff</th>\n",
       "    </tr>\n",
       "  </thead>\n",
       "  <tbody>\n",
       "    <tr>\n",
       "      <td>0</td>\n",
       "      <td>0</td>\n",
       "      <td>mszoning</td>\n",
       "      <td>0.837509</td>\n",
       "      <td>0.834623</td>\n",
       "      <td>0.002886</td>\n",
       "    </tr>\n",
       "    <tr>\n",
       "      <td>1</td>\n",
       "      <td>7</td>\n",
       "      <td>neighborhood</td>\n",
       "      <td>0.852323</td>\n",
       "      <td>0.834471</td>\n",
       "      <td>0.017852</td>\n",
       "    </tr>\n",
       "    <tr>\n",
       "      <td>2</td>\n",
       "      <td>13</td>\n",
       "      <td>roofmatl</td>\n",
       "      <td>0.825594</td>\n",
       "      <td>0.826446</td>\n",
       "      <td>-0.000852</td>\n",
       "    </tr>\n",
       "    <tr>\n",
       "      <td>3</td>\n",
       "      <td>27</td>\n",
       "      <td>centralair</td>\n",
       "      <td>0.823743</td>\n",
       "      <td>0.824562</td>\n",
       "      <td>-0.000819</td>\n",
       "    </tr>\n",
       "    <tr>\n",
       "      <td>4</td>\n",
       "      <td>23</td>\n",
       "      <td>bsmtfintype1</td>\n",
       "      <td>0.831101</td>\n",
       "      <td>0.824409</td>\n",
       "      <td>0.006692</td>\n",
       "    </tr>\n",
       "  </tbody>\n",
       "</table>\n",
       "</div>"
      ],
      "text/plain": [
       "   index      variable  train_score  test_score  train_test_diff\n",
       "0      0      mszoning     0.837509    0.834623         0.002886\n",
       "1      7  neighborhood     0.852323    0.834471         0.017852\n",
       "2     13      roofmatl     0.825594    0.826446        -0.000852\n",
       "3     27    centralair     0.823743    0.824562        -0.000819\n",
       "4     23  bsmtfintype1     0.831101    0.824409         0.006692"
      ]
     },
     "execution_count": 40,
     "metadata": {},
     "output_type": "execute_result"
    }
   ],
   "source": [
    "new_cat_feats = find_new_cat_feats(df_model).copy().reset_index()\n",
    "new_cat_feats.head()"
   ]
  },
  {
   "cell_type": "code",
   "execution_count": 41,
   "metadata": {},
   "outputs": [
    {
     "data": {
      "text/plain": [
       "['mszoning', 'neighborhood', 'roofmatl']"
      ]
     },
     "execution_count": 41,
     "metadata": {},
     "output_type": "execute_result"
    }
   ],
   "source": [
    "new_cat_feats = list(new_cat_feats.loc[:2,'variable'].values)\n",
    "new_cat_feats"
   ]
  },
  {
   "cell_type": "markdown",
   "metadata": {},
   "source": [
    "### add new categorical features to dataframe as one-hot encodings"
   ]
  },
  {
   "cell_type": "code",
   "execution_count": 42,
   "metadata": {},
   "outputs": [
    {
     "data": {
      "text/plain": [
       "Index(['saleprice', 'saleprice_log', 'overallqual', 'grlivarea', 'garagecars',\n",
       "       'foundation_PConc', 'neighborhood_NridgHt', 'Mortgage_Rate',\n",
       "       'Mortgage_Points', 'totalsf', 'int_overallqual_totalsf', 'mszoning_FV',\n",
       "       'mszoning_RH', 'mszoning_RL', 'mszoning_RM', 'neighborhood_Blueste',\n",
       "       'neighborhood_BrDale', 'neighborhood_BrkSide', 'neighborhood_ClearCr',\n",
       "       'neighborhood_CollgCr', 'neighborhood_Crawfor', 'neighborhood_Edwards',\n",
       "       'neighborhood_Gilbert', 'neighborhood_IDOTRR', 'neighborhood_MeadowV',\n",
       "       'neighborhood_Mitchel', 'neighborhood_NAmes', 'neighborhood_NPkVill',\n",
       "       'neighborhood_NWAmes', 'neighborhood_NoRidge', 'neighborhood_NridgHt',\n",
       "       'neighborhood_OldTown', 'neighborhood_SWISU', 'neighborhood_Sawyer',\n",
       "       'neighborhood_SawyerW', 'neighborhood_Somerst', 'neighborhood_StoneBr',\n",
       "       'neighborhood_Timber', 'neighborhood_Veenker', 'roofmatl_CompShg',\n",
       "       'roofmatl_Membran', 'roofmatl_Metal', 'roofmatl_Roll',\n",
       "       'roofmatl_Tar&Grv', 'roofmatl_WdShake', 'roofmatl_WdShngl'],\n",
       "      dtype='object')"
      ]
     },
     "execution_count": 42,
     "metadata": {},
     "output_type": "execute_result"
    }
   ],
   "source": [
    "# one-hot encoding\n",
    "dummies = pd.get_dummies(df[new_cat_feats], drop_first=True)\n",
    "df_model = pd.concat([df_model, dummies], axis=1)\n",
    "df_model.columns"
   ]
  },
  {
   "cell_type": "markdown",
   "metadata": {},
   "source": [
    "### rerun OLS"
   ]
  },
  {
   "cell_type": "code",
   "execution_count": 43,
   "metadata": {
    "scrolled": false
   },
   "outputs": [
    {
     "name": "stdout",
     "output_type": "stream",
     "text": [
      "OLS\n",
      "-----Split Breakdown-----\n",
      "Train: 1168\n",
      "Test: 292\n",
      "-----Model Score-----\n",
      "Train R-Squared: 0.8680\n",
      "Test R-Squared: 0.8558\n",
      "Train-Test: 0.0121\n",
      "-----Prediction statistics-----\n",
      "MAE: 0.1160\n",
      "MSE: 0.0240\n",
      "RMSE: 0.1551\n",
      "MAPE: 0.9694%\n",
      "\n",
      "-----Split Breakdown-----\n",
      "Train: 1168\n",
      "Test: 292\n"
     ]
    }
   ],
   "source": [
    "run_sklearn_linreg(df_model.drop(['saleprice','saleprice_log'], axis=1), df_model['saleprice_log'], 'OLS', True)\n",
    "pvalues = run_statsmodels_linreg(df_model.drop(['saleprice','saleprice_log'], axis=1), df_model['saleprice_log'], False)"
   ]
  },
  {
   "cell_type": "markdown",
   "metadata": {},
   "source": [
    "### remove variables with high p-values"
   ]
  },
  {
   "cell_type": "code",
   "execution_count": 44,
   "metadata": {},
   "outputs": [],
   "source": [
    "pvalues = pvalues.to_frame().reset_index()\n",
    "pvalues.columns = ['parameter','pvalue']\n",
    "df_model = df_model.drop(list(pvalues[pvalues.pvalue > 0.05].parameter),axis=1).copy()"
   ]
  },
  {
   "cell_type": "markdown",
   "metadata": {},
   "source": [
    "### rerun OLS"
   ]
  },
  {
   "cell_type": "code",
   "execution_count": 45,
   "metadata": {
    "scrolled": false
   },
   "outputs": [
    {
     "name": "stdout",
     "output_type": "stream",
     "text": [
      "OLS\n",
      "-----Split Breakdown-----\n",
      "Train: 1168\n",
      "Test: 292\n",
      "-----Model Score-----\n",
      "Train R-Squared: 0.8633\n",
      "Test R-Squared: 0.8497\n",
      "Train-Test: 0.0136\n",
      "-----Prediction statistics-----\n",
      "MAE: 0.1200\n",
      "MSE: 0.0251\n",
      "RMSE: 0.1583\n",
      "MAPE: 1.0033%\n",
      "\n",
      "---\n",
      "-----Split Breakdown-----\n",
      "Train: 1168\n",
      "Test: 292\n",
      "                            OLS Regression Results                            \n",
      "==============================================================================\n",
      "Dep. Variable:          saleprice_log   R-squared:                       0.863\n",
      "Model:                            OLS   Adj. R-squared:                  0.860\n",
      "Method:                 Least Squares   F-statistic:                     277.2\n",
      "Date:                Wed, 05 Feb 2020   Prob (F-statistic):               0.00\n",
      "Time:                        16:13:33   Log-Likelihood:                 583.99\n",
      "No. Observations:                1168   AIC:                            -1114.\n",
      "Df Residuals:                    1141   BIC:                            -977.3\n",
      "Df Model:                          26                                         \n",
      "Covariance Type:            nonrobust                                         \n",
      "===========================================================================================\n",
      "                              coef    std err          t      P>|t|      [0.025      0.975]\n",
      "-------------------------------------------------------------------------------------------\n",
      "const                       8.4950      0.187     45.314      0.000       8.127       8.863\n",
      "overallqual                 0.1286      0.010     12.847      0.000       0.109       0.148\n",
      "grlivarea                8.488e-05    1.8e-05      4.728      0.000    4.97e-05       0.000\n",
      "garagecars                  0.0846      0.008     10.640      0.000       0.069       0.100\n",
      "foundation_PConc            0.0372      0.012      3.108      0.002       0.014       0.061\n",
      "neighborhood_NridgHt        0.0807      0.012      6.771      0.000       0.057       0.104\n",
      "totalsf                     0.0002   2.53e-05      9.485      0.000       0.000       0.000\n",
      "int_overallqual_totalsf -1.447e-05   3.34e-06     -4.328      0.000    -2.1e-05   -7.91e-06\n",
      "mszoning_FV                 0.3966      0.068      5.800      0.000       0.262       0.531\n",
      "mszoning_RH                 0.2743      0.067      4.120      0.000       0.144       0.405\n",
      "mszoning_RL                 0.4012      0.054      7.458      0.000       0.296       0.507\n",
      "mszoning_RM                 0.2486      0.055      4.560      0.000       0.142       0.356\n",
      "neighborhood_ClearCr        0.1226      0.034      3.634      0.000       0.056       0.189\n",
      "neighborhood_CollgCr        0.0557      0.017      3.274      0.001       0.022       0.089\n",
      "neighborhood_Crawfor        0.1496      0.024      6.336      0.000       0.103       0.196\n",
      "neighborhood_NoRidge        0.1507      0.030      4.963      0.000       0.091       0.210\n",
      "neighborhood_NridgHt        0.0807      0.012      6.771      0.000       0.057       0.104\n",
      "neighborhood_Somerst        0.0764      0.039      1.973      0.049       0.000       0.152\n",
      "neighborhood_StoneBr        0.2067      0.038      5.443      0.000       0.132       0.281\n",
      "neighborhood_Timber         0.1016      0.028      3.648      0.000       0.047       0.156\n",
      "neighborhood_Veenker        0.1490      0.053      2.800      0.005       0.045       0.253\n",
      "roofmatl_CompShg            1.6593      0.197      8.435      0.000       1.273       2.045\n",
      "roofmatl_Membran            1.8105      0.249      7.273      0.000       1.322       2.299\n",
      "roofmatl_Metal              1.7628      0.250      7.040      0.000       1.272       2.254\n",
      "roofmatl_Roll               1.4799      0.248      5.978      0.000       0.994       1.966\n",
      "roofmatl_Tar&Grv            1.6358      0.203      8.040      0.000       1.237       2.035\n",
      "roofmatl_WdShake            1.6546      0.206      8.024      0.000       1.250       2.059\n",
      "roofmatl_WdShngl            1.8102      0.199      9.094      0.000       1.420       2.201\n",
      "==============================================================================\n",
      "Omnibus:                      334.388   Durbin-Watson:                   1.909\n",
      "Prob(Omnibus):                  0.000   Jarque-Bera (JB):             1827.270\n",
      "Skew:                          -1.212   Prob(JB):                         0.00\n",
      "Kurtosis:                       8.628   Cond. No.                     1.13e+16\n",
      "==============================================================================\n",
      "\n",
      "Warnings:\n",
      "[1] Standard Errors assume that the covariance matrix of the errors is correctly specified.\n",
      "[2] The smallest eigenvalue is 3.24e-21. This might indicate that there are\n",
      "strong multicollinearity problems or that the design matrix is singular.\n"
     ]
    },
    {
     "data": {
      "text/plain": [
       "const                      2.489660e-257\n",
       "overallqual                 2.219812e-35\n",
       "grlivarea                   2.544636e-06\n",
       "garagecars                  2.838454e-25\n",
       "foundation_PConc            1.927215e-03\n",
       "neighborhood_NridgHt        2.047209e-11\n",
       "totalsf                     1.362932e-20\n",
       "int_overallqual_totalsf     1.638312e-05\n",
       "mszoning_FV                 8.561623e-09\n",
       "mszoning_RH                 4.061651e-05\n",
       "mszoning_RL                 1.737429e-13\n",
       "mszoning_RM                 5.671676e-06\n",
       "neighborhood_ClearCr        2.912113e-04\n",
       "neighborhood_CollgCr        1.091779e-03\n",
       "neighborhood_Crawfor        3.388226e-10\n",
       "neighborhood_NoRidge        7.983210e-07\n",
       "neighborhood_NridgHt        2.047209e-11\n",
       "neighborhood_Somerst        4.874630e-02\n",
       "neighborhood_StoneBr        6.416136e-08\n",
       "neighborhood_Timber         2.766088e-04\n",
       "neighborhood_Veenker        5.198980e-03\n",
       "roofmatl_CompShg            9.934332e-17\n",
       "roofmatl_Membran            6.509362e-13\n",
       "roofmatl_Metal              3.313249e-12\n",
       "roofmatl_Roll               3.012066e-09\n",
       "roofmatl_Tar&Grv            2.236017e-15\n",
       "roofmatl_WdShake            2.528960e-15\n",
       "roofmatl_WdShngl            4.124516e-19\n",
       "dtype: float64"
      ]
     },
     "execution_count": 45,
     "metadata": {},
     "output_type": "execute_result"
    }
   ],
   "source": [
    "run_sklearn_linreg(df_model.drop(['saleprice','saleprice_log'], axis=1), df_model['saleprice_log'], 'OLS', True)\n",
    "print('---')\n",
    "run_statsmodels_linreg(df_model.drop(['saleprice','saleprice_log'], axis=1), df_model['saleprice_log'], True)"
   ]
  },
  {
   "cell_type": "code",
   "execution_count": 46,
   "metadata": {},
   "outputs": [
    {
     "data": {
      "text/plain": [
       "Index(['saleprice', 'saleprice_log', 'overallqual', 'grlivarea', 'garagecars',\n",
       "       'foundation_PConc', 'neighborhood_NridgHt', 'totalsf',\n",
       "       'int_overallqual_totalsf', 'mszoning_FV', 'mszoning_RH', 'mszoning_RL',\n",
       "       'mszoning_RM', 'neighborhood_ClearCr', 'neighborhood_CollgCr',\n",
       "       'neighborhood_Crawfor', 'neighborhood_NoRidge', 'neighborhood_NridgHt',\n",
       "       'neighborhood_Somerst', 'neighborhood_StoneBr', 'neighborhood_Timber',\n",
       "       'neighborhood_Veenker', 'roofmatl_CompShg', 'roofmatl_Membran',\n",
       "       'roofmatl_Metal', 'roofmatl_Roll', 'roofmatl_Tar&Grv',\n",
       "       'roofmatl_WdShake', 'roofmatl_WdShngl'],\n",
       "      dtype='object')"
      ]
     },
     "execution_count": 46,
     "metadata": {},
     "output_type": "execute_result"
    }
   ],
   "source": [
    "df_model.columns"
   ]
  },
  {
   "cell_type": "markdown",
   "metadata": {},
   "source": [
    "# Ridge/Lasso/ElasticNet Regression\n",
    "---"
   ]
  },
  {
   "cell_type": "code",
   "execution_count": 47,
   "metadata": {},
   "outputs": [],
   "source": [
    "alphas = [np.power(10.0,p) for p in np.arange(-10,40,1)]"
   ]
  },
  {
   "cell_type": "code",
   "execution_count": 48,
   "metadata": {},
   "outputs": [
    {
     "name": "stdout",
     "output_type": "stream",
     "text": [
      "OLS\n",
      "-----Split Breakdown-----\n",
      "Train: 1168\n",
      "Test: 292\n",
      "-----Model Score-----\n",
      "Train R-Squared: 0.8633\n",
      "Test R-Squared: 0.8497\n",
      "Train-Test: 0.0136\n",
      "-----Prediction statistics-----\n",
      "MAE: 0.1200\n",
      "MSE: 0.0251\n",
      "RMSE: 0.1583\n",
      "MAPE: 1.0033%\n",
      "\n",
      "RIDGE\n",
      "-----Split Breakdown-----\n",
      "Train: 1168\n",
      "Test: 292\n",
      "Best alpha: 1.0\n",
      "-----Model Score-----\n",
      "Train R-Squared: 0.8553\n",
      "Test R-Squared: 0.8322\n",
      "Train-Test: 0.0231\n",
      "-----Prediction statistics-----\n",
      "MAE: 0.1256\n",
      "MSE: 0.0280\n",
      "RMSE: 0.1673\n",
      "MAPE: 1.0489%\n",
      "\n",
      "LASSO\n",
      "-----Split Breakdown-----\n",
      "Train: 1168\n",
      "Test: 292\n",
      "Best alpha: 0.001\n",
      "-----Model Score-----\n",
      "Train R-Squared: 0.8466\n",
      "Test R-Squared: 0.8234\n",
      "Train-Test: 0.0232\n",
      "-----Prediction statistics-----\n",
      "MAE: 0.1263\n",
      "MSE: 0.0294\n",
      "RMSE: 0.1716\n",
      "MAPE: 1.0557%\n",
      "\n",
      "ELASTICNET\n",
      "-----Split Breakdown-----\n",
      "Train: 1168\n",
      "Test: 292\n",
      "Best alpha: 0.001\n",
      "-----Model Score-----\n",
      "Train R-Squared: 0.8502\n",
      "Test R-Squared: 0.8246\n",
      "Train-Test: 0.0256\n",
      "-----Prediction statistics-----\n",
      "MAE: 0.1267\n",
      "MSE: 0.0293\n",
      "RMSE: 0.1710\n",
      "MAPE: 1.0582%\n",
      "\n"
     ]
    },
    {
     "data": {
      "text/plain": [
       "(0.8501652770033981, 0.8245694844593991)"
      ]
     },
     "execution_count": 48,
     "metadata": {},
     "output_type": "execute_result"
    }
   ],
   "source": [
    "run_sklearn_linreg(df_model.drop(['saleprice', 'saleprice_log'], axis=1), df_model['saleprice_log'], 'OLS', True)\n",
    "run_sklearn_linreg(df_model.drop(['saleprice', 'saleprice_log'], axis=1), df_model['saleprice_log'], 'Ridge', True)\n",
    "run_sklearn_linreg(df_model.drop(['saleprice', 'saleprice_log'], axis=1), df_model['saleprice_log'], 'Lasso', True)\n",
    "run_sklearn_linreg(df_model.drop(['saleprice', 'saleprice_log'], axis=1), df_model['saleprice_log'], 'ElasticNet', True)"
   ]
  },
  {
   "cell_type": "markdown",
   "metadata": {},
   "source": [
    "#### The linear regression models in order from best to worst are:\n",
    "1. OLS\n",
    "2. Ridge\n",
    "3. ElasticNet $\\approx$ Lasso\n",
    "\n",
    "<br></br>\n",
    "\n",
    "|     |OLS   |Ridge |Lasso |ElasticNet|\n",
    "|:-:  |:-:   |:-:   |:-:   |:-:       |\n",
    "|Train|0.8633|0.8553|0.8466|0.8502    |\n",
    "|Test |0.8497|0.8322|0.8234|0.8246    |\n",
    "|MAE  |0.1200|0.1256|0.1263|0.1267    |\n",
    "|MSE  |0.0251|0.0280|0.0294|0.0293    |\n",
    "|RMSE |0.1583|0.1673|0.1716|0.1710    |\n",
    "|MAPE |1.0033|1.0489|1.0557|1.0582    |\n"
   ]
  },
  {
   "cell_type": "code",
   "execution_count": null,
   "metadata": {},
   "outputs": [],
   "source": []
  }
 ],
 "metadata": {
  "kernelspec": {
   "display_name": "Python 3",
   "language": "python",
   "name": "python3"
  },
  "language_info": {
   "codemirror_mode": {
    "name": "ipython",
    "version": 3
   },
   "file_extension": ".py",
   "mimetype": "text/x-python",
   "name": "python",
   "nbconvert_exporter": "python",
   "pygments_lexer": "ipython3",
   "version": "3.7.4"
  }
 },
 "nbformat": 4,
 "nbformat_minor": 2
}
